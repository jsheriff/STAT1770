{
 "cells": [
  {
   "cell_type": "markdown",
   "metadata": {},
   "source": [
    "# Lab 1: Introduction to Jupyter and R"
   ]
  },
  {
   "cell_type": "markdown",
   "metadata": {
    "slideshow": {
     "slide_type": "slide"
    }
   },
   "source": [
    "## Objectives\n",
    "* Introduce jupyter/R notebooks\n",
    "* Conduct some preliminary data analysis\n",
    "* Practice the process of completing and submitting notebook.\n",
    "\n",
    "### You will submit this lab in order to practice the process of producing and submitting output, but you will not be graded on your submission. This lab is for practice only. "
   ]
  },
  {
   "cell_type": "markdown",
   "metadata": {
    "slideshow": {
     "slide_type": "slide"
    }
   },
   "source": [
    "## What is Jupyter?\n",
    "\n",
    "Jupyter is a free, open-source web application that allows users to create and share documents that combine code, text, and other multimedia elements. The documents created in Jupyter are called notebooks. A notebook can include Markdown text, equations, images, code, and the output of code. It supports over 40 programming language including R and Python.\n",
    "\n",
    "\n",
    "## What is R?\n",
    "\n",
    "R is a free, open source statistical programming language. It is useful for data cleaning, analysis, and visualization."
   ]
  },
  {
   "cell_type": "markdown",
   "metadata": {
    "slideshow": {
     "slide_type": "slide"
    }
   },
   "source": [
    "## Elements of a jupyter notebook\n",
    "\n",
    "Every jupyter notebook is made up of individual cells. Each cell is generally of one of two types, a Markdown cell, or a Code cell. A single click on any portion of the notebook will highlight the associated cell. The toolbar at the top of the notebook will indicate the cell type. "
   ]
  },
  {
   "cell_type": "markdown",
   "metadata": {
    "slideshow": {
     "slide_type": "slide"
    }
   },
   "source": [
    "### Markdown Cells\n",
    "This is a markdown cell.\n",
    "\n",
    "Markdown is a markup language (like html). Its design allows it to be converted to many output formats. It can accommodate LaTex formulas, image files, hyperlinks, etc., but we will primarily just use the Markdown cells to enter text.\n",
    "\n",
    "This is where you would describe your work, or answer questions. \n",
    "\n",
    "#### To edit this cell double click on the cell, or single click on the cell, so that the cell is highlighted, and then hit  <Enter\\>.  \n",
    "#### To return the cell to its formatted appearance, hit <Shift\\> + <Enter\\> or hit the Run button (&#x25BA;) above.\n",
    "\n",
    "If you are interested, some additional resources for using Markdown may be found here\n",
    "* [Markdown Guide](https://www.markdownguide.org/)\n",
    "* [Markdown Tutorial](https://www.markdowntutorial.com/)"
   ]
  },
  {
   "cell_type": "markdown",
   "metadata": {
    "slideshow": {
     "slide_type": "slide"
    }
   },
   "source": [
    "### Code Cells\n",
    "\n",
    "Below are three code cells. Code cells typically appear as grey boxes, and the code is entered in that grey box.\n",
    "\n",
    "Code cells allow us to execute R code to conduct our analysis. Interacting with R is all about typing commands and interpreting the output. These commands and their syntax have evolved over decades (literally) and now provide what many users feel is a fairly natural way to access data and organize, describe, and invoke statistical computations.  \n",
    "  \n",
    "Typically these cells will be used to perform various analyses of data, but the cells below are simply used to perform some basic arithmetic.  \n",
    "\n",
    "#### A single click on a code cell should allow you to enter, or edit, code.  \n",
    "#### To run the code, hit <Shift\\> + <Enter\\> or hit the Run button above.\n",
    "#### If the code produces output, that output will appear below the code cell. \n",
    "#### Not all code cells will produce output. For example, some code cells may be used to load data."
   ]
  },
  {
   "cell_type": "code",
   "execution_count": null,
   "metadata": {
    "slideshow": {
     "slide_type": "subslide"
    },
    "tags": []
   },
   "outputs": [],
   "source": [
    "4+7"
   ]
  },
  {
   "cell_type": "code",
   "execution_count": null,
   "metadata": {
    "slideshow": {
     "slide_type": "subslide"
    },
    "tags": []
   },
   "outputs": [],
   "source": [
    "(2*9)/3"
   ]
  },
  {
   "cell_type": "code",
   "execution_count": null,
   "metadata": {
    "slideshow": {
     "slide_type": "subslide"
    }
   },
   "outputs": [],
   "source": [
    "3^4"
   ]
  },
  {
   "cell_type": "markdown",
   "metadata": {},
   "source": [
    "You will see a counter in the square brackets which increases each time you execute a line of code. While the code is executing, you may see a * symbol. Once the code is done executing you will see a number in the square brackets."
   ]
  },
  {
   "cell_type": "markdown",
   "metadata": {
    "slideshow": {
     "slide_type": "slide"
    }
   },
   "source": [
    "### Question 1: Use the code cell below to find the average of 17, 2, 13,  7."
   ]
  },
  {
   "cell_type": "code",
   "execution_count": null,
   "metadata": {},
   "outputs": [],
   "source": []
  },
  {
   "cell_type": "markdown",
   "metadata": {},
   "source": [
    "<details>\n",
    "\n",
    "<summary><b>Click to view sample code:</b></summary>\n",
    "\n",
    "There are various ways that you could find the average. Two possibilities are presented below:\n",
    "\n",
    "1) You can average by adding the numbers and dividing by four  \n",
    "```\n",
    "(17 + 2 + 13 + 7)/4\n",
    "```\n",
    "   \n",
    "2) You can use the `mean` function to calculate an average  \n",
    "```\n",
    "mean(c(17,2,13,7))\n",
    "```\n",
    "</details>"
   ]
  },
  {
   "cell_type": "markdown",
   "metadata": {
    "slideshow": {
     "slide_type": "slide"
    }
   },
   "source": [
    "### Comments\n",
    "\n",
    "Code cells may include comments that provide information about the code in that cell. Within a code cell, any line of text that starts with a hash symbol, #, is a comment. Anything on the line following # is ignored by R."
   ]
  },
  {
   "cell_type": "code",
   "execution_count": null,
   "metadata": {},
   "outputs": [],
   "source": [
    "# This is a comment. Running this will have no effect."
   ]
  },
  {
   "cell_type": "markdown",
   "metadata": {
    "slideshow": {
     "slide_type": "slide"
    }
   },
   "source": [
    "### Functions\n",
    "\n",
    "Most of the work in R is done by functions. A function has a name and one or more arguments. For example, `sqrt(9)` is a function that calculates the square root of 9."
   ]
  },
  {
   "cell_type": "code",
   "execution_count": null,
   "metadata": {},
   "outputs": [],
   "source": [
    "sqrt(9)"
   ]
  },
  {
   "cell_type": "markdown",
   "metadata": {
    "slideshow": {
     "slide_type": "slide"
    }
   },
   "source": [
    "Functions may have optional input arguments. For example, the function `log()` has an optional `base` argument that allows you to tell the function what base to use for the logarithm. Optional arguments have a default value. For example, if we don’t specify the `base` argument, it has a default value of $e$, which is the base of the natural logarithm. To get a log in base 10, we would use the optional argument, `base = 10`."
   ]
  },
  {
   "cell_type": "code",
   "execution_count": null,
   "metadata": {},
   "outputs": [],
   "source": [
    "log(100)"
   ]
  },
  {
   "cell_type": "code",
   "execution_count": null,
   "metadata": {},
   "outputs": [],
   "source": [
    "log(100, base = 10)"
   ]
  },
  {
   "cell_type": "markdown",
   "metadata": {
    "slideshow": {
     "slide_type": "slide"
    }
   },
   "source": [
    "### Defining objects\n",
    "\n",
    "In R, we can store information of various sorts by assigning them to objects. For example, if we want to create a object called `X` and give it a value of 14 + 29, we would write"
   ]
  },
  {
   "cell_type": "code",
   "execution_count": null,
   "metadata": {
    "tags": []
   },
   "outputs": [],
   "source": [
    "X = 14 + 29"
   ]
  },
  {
   "cell_type": "markdown",
   "metadata": {},
   "source": [
    "Because the value is assigned to a new object `X`, no output is shown on the notebook. If you wish to see what value is associated with `X`, you could include a separate line of code that simply includes the object name `X`"
   ]
  },
  {
   "cell_type": "code",
   "execution_count": null,
   "metadata": {
    "tags": []
   },
   "outputs": [],
   "source": [
    "X"
   ]
  },
  {
   "cell_type": "markdown",
   "metadata": {
    "slideshow": {
     "slide_type": "slide"
    }
   },
   "source": [
    "We can always assign a new value to a object. For example, we could tell R that `X` is equal to 7."
   ]
  },
  {
   "cell_type": "code",
   "execution_count": null,
   "metadata": {},
   "outputs": [],
   "source": [
    "X = 7"
   ]
  },
  {
   "cell_type": "markdown",
   "metadata": {
    "slideshow": {
     "slide_type": "slide"
    }
   },
   "source": [
    "`X` now has a new value."
   ]
  },
  {
   "cell_type": "code",
   "execution_count": null,
   "metadata": {},
   "outputs": [],
   "source": [
    "X\n",
    "Y = X + 4"
   ]
  },
  {
   "cell_type": "code",
   "execution_count": null,
   "metadata": {},
   "outputs": [],
   "source": [
    "sqrt(Y)"
   ]
  },
  {
   "cell_type": "markdown",
   "metadata": {
    "slideshow": {
     "slide_type": "slide"
    }
   },
   "source": [
    "Objects in R can store more than just simple numbers. They can store datasets, lists of numbers, functions, graphics, etc., depending on what values get assigned to the object."
   ]
  },
  {
   "cell_type": "markdown",
   "metadata": {},
   "source": [
    "### Loading data  \n",
    "\n",
    "There are many ways to import data to be analysed. If the data exists in a file accesible online, it may be accessed directly. Run the R command below."
   ]
  },
  {
   "cell_type": "code",
   "execution_count": null,
   "metadata": {
    "tags": []
   },
   "outputs": [],
   "source": [
    "source(\"http://www.openintro.org/stat/data/arbuthnot.R\")"
   ]
  },
  {
   "cell_type": "markdown",
   "metadata": {},
   "source": [
    "This command instructs R to access the OpenIntro website and retrieve some data, which is in a file called `arbuthnot.R`. The .R indicates a file format, like .csv, .txt etc. R is capable of importing data files of various formats (using the appropriate command). The `arbuthnot` dataset is already in a format native to R.  "
   ]
  },
  {
   "cell_type": "markdown",
   "metadata": {
    "slideshow": {
     "slide_type": "slide"
    }
   },
   "source": [
    "## Data Information:\n",
    "\n",
    "### Data Set:\n",
    "\n",
    "Today we will be using baptism data for children born in London, England for every year from 1629 to 1710. \n",
    "\n",
    " \n",
    "#### Name: #### \n",
    "* `arbuthnot` - baptism data for children born in London, England for every year from 1629 to 1710\n",
    "\n",
    "#### Variables: ####\n",
    "* `year` - calendar year\n",
    "* `boys` - number of boys baptized in London during the year\n",
    "* `girls` - number of girls baptized in London during the year\n"
   ]
  },
  {
   "cell_type": "markdown",
   "metadata": {},
   "source": [
    "### The Data: Dr. Arbuthnot’s Baptism Records  \n",
    "The `arbuthnot` data set refers to Dr. John Arbuthnot, an 18th century physician, writer, and mathematician. He was interested in the ratio of newborn boys to newborn girls, so he gathered the baptism records for children born in London for every year from 1629 to 1710. We can use the `head` function to look at the first few entries in the `arbuthnot` dataset."
   ]
  },
  {
   "cell_type": "code",
   "execution_count": null,
   "metadata": {
    "tags": []
   },
   "outputs": [],
   "source": [
    "head(arbuthnot)"
   ]
  },
  {
   "cell_type": "markdown",
   "metadata": {},
   "source": [
    "What you should see are three columns of numbers, each row representing a different year: the first entry in each row  is the year, and the second and third are the numbers of boys and girls baptized that year, respectively.\n",
    "\n",
    "R has stored Arbuthnot’s data in a kind of spreadsheet or table called a *data frame*.\n",
    "\n",
    "You can see the dimensions of this data frame by using the `dim` function."
   ]
  },
  {
   "cell_type": "code",
   "execution_count": null,
   "metadata": {},
   "outputs": [],
   "source": [
    "dim(arbuthnot)"
   ]
  },
  {
   "cell_type": "markdown",
   "metadata": {},
   "source": [
    "This command should output 82 3, indicating that there are 82 rows and 3 columns. Each row represents a different year. Each year represents an observation, or case, or subject in the study. Each year is listed in the first column. The second and third columns represent the variables recorded for this study. You can see the names of these columns by using the `names` function."
   ]
  },
  {
   "cell_type": "code",
   "execution_count": null,
   "metadata": {},
   "outputs": [],
   "source": [
    "names(arbuthnot)"
   ]
  },
  {
   "cell_type": "markdown",
   "metadata": {},
   "source": [
    "You should see that the data frame contains the columns year, boys, and girls."
   ]
  },
  {
   "cell_type": "markdown",
   "metadata": {},
   "source": [
    "### Some exploration of the data\n",
    "\n",
    "Let’s start to examine the data a little more closely. Each column of the data frame represents a separate variable. We can review a single variable (access the data in a single column of a data frame) using the `dataframe$variable` structure as in the following command."
   ]
  },
  {
   "cell_type": "code",
   "execution_count": null,
   "metadata": {},
   "outputs": [],
   "source": [
    "arbuthnot$boys"
   ]
  },
  {
   "cell_type": "markdown",
   "metadata": {},
   "source": [
    "This command will only show the number of boys baptized each year.  \n",
    "\n",
    "\n",
    "Notice that the way these data are printed is different. When we looked at the complete data frame, we saw 82 rows, one on each line of the display. These data are no longer structured in a table with other variables, so they are displayed one right after another. Objects that print out in this way are called vectors; they represent a set of numbers. "
   ]
  },
  {
   "cell_type": "markdown",
   "metadata": {},
   "source": [
    "### Question 2: Use the code cell below to show just the counts of girls baptized each year."
   ]
  },
  {
   "cell_type": "code",
   "execution_count": null,
   "metadata": {},
   "outputs": [],
   "source": []
  },
  {
   "cell_type": "markdown",
   "metadata": {},
   "source": [
    "<details>\n",
    "\n",
    "<summary><b>Click to view sample code:</b></summary>\n",
    "\n",
    "There are various ways that you could show just the counts of girls baptized each year. If we follow the example code for boys baptized:\n",
    " \n",
    "```\n",
    "arbuthnot$girls\n",
    "```\n",
    "</details>"
   ]
  },
  {
   "cell_type": "markdown",
   "metadata": {},
   "source": [
    "### Graphics in R\n",
    "\n",
    "R has some powerful functions for making graphics. We can create a simple plot of the number of girls baptized per year, using the `plot` command."
   ]
  },
  {
   "cell_type": "code",
   "execution_count": null,
   "metadata": {},
   "outputs": [],
   "source": [
    "plot(x = arbuthnot$year, y = arbuthnot$girls)"
   ]
  },
  {
   "cell_type": "markdown",
   "metadata": {},
   "source": [
    "By default, R creates a scatterplot with each `x`,`y` pair indicated by an open circle. Notice that the command above again looks like a function, this time with two arguments separated by a comma. The first argument in the plot function specifies the variable for the x-axis and the second for the y-axis. If we wanted to connect the data points with lines, we could add an optional argument, setting the `type` of graph as a line graph by using the letter **l** for line in the type argument."
   ]
  },
  {
   "cell_type": "code",
   "execution_count": null,
   "metadata": {},
   "outputs": [],
   "source": [
    "plot(x = arbuthnot$year, y = arbuthnot$girls, type = \"l\")"
   ]
  },
  {
   "cell_type": "markdown",
   "metadata": {},
   "source": [
    "### Question 3: Is there an apparent trend in the number of girls baptized over the years? If so, how would you describe it?"
   ]
  },
  {
   "cell_type": "markdown",
   "metadata": {},
   "source": [
    "### Answer:"
   ]
  },
  {
   "cell_type": "markdown",
   "metadata": {},
   "source": [
    "<details>\n",
    "\n",
    "<summary><b>Sample Answer:</b></summary>\n",
    "\n",
    "There is a generally increasing trend in the number of girls baptized over the years. Of course there is year-to-year variation, and there is also a sharp decline in girls baptized in the mid 1600's (what might explain that?), but the overall trend is towards increasing numbers of girls baptized.\n",
    "</details>"
   ]
  },
  {
   "cell_type": "markdown",
   "metadata": {},
   "source": [
    "To conclude our work we will consider the proportion of all baptisms that are boys. This may be done for all years simultaneously. If we add the vector for baptisms for boys and baptisms for girls, `arbuthnot$boys + arbuthnot$girls`, R will compute the total number of baptisms for all years simultaneously.\n",
    "\n",
    "Then proportion of all baptisms that are boys may also be computed for all years simultaneously, as `arbuthnot$boys / (arbuthnot$boys + arbuthnot$girls)`.\n",
    "\n",
    "Then we can plot the proportion of all baptisms that are boys for each year as follows"
   ]
  },
  {
   "cell_type": "code",
   "execution_count": null,
   "metadata": {},
   "outputs": [],
   "source": [
    "plot(x = arbuthnot$year, y = arbuthnot$boys / (arbuthnot$boys + arbuthnot$girls), type = \"l\")"
   ]
  },
  {
   "cell_type": "markdown",
   "metadata": {},
   "source": [
    "### Question 4: What can we learn from the plot? "
   ]
  },
  {
   "cell_type": "markdown",
   "metadata": {},
   "source": [
    "### Answer: "
   ]
  },
  {
   "cell_type": "markdown",
   "metadata": {},
   "source": [
    "<details>\n",
    "\n",
    "<summary><b>Sample Answer:</b></summary>\n",
    "\n",
    "A direct reading of the graph indicates that the proportion of all children baptized in London during those years that were boys varied between about 50.5% and 53.5%.\n",
    "\n",
    "##### This might strike you as a bit surprising. We did not observe one year in which more girls were baptized than boys. If one thought that births were roughly equally likely to be boys or girls, then one might expect that there would be years with more girls born than boys and more girls baptized than boys. Why was this not observed? Were births more likely to be boys than girls, such that there were always more boys born than girls and hence more boys baptized? Were births roughly equally likely to be boys or girls, but boys were more likely to be baptized? Are the other possible explanations?\n",
    "\n",
    "</details>"
   ]
  },
  {
   "cell_type": "markdown",
   "metadata": {
    "slideshow": {
     "slide_type": "slide"
    }
   },
   "source": [
    "Together, code cells and Markdown cells combine to form a jupyter notebook that will allow you to conduct, document, and distribute, the statistical analysis of any research question you encounter.  \n",
    "\n",
    "\n",
    "Jupyter notebooks are capable of producing publishable quality output. However, tutorials will emphasize developing familiarity and facility with notebooks and with R.  \n",
    "  \n",
    "----  "
   ]
  },
  {
   "cell_type": "markdown",
   "metadata": {},
   "source": [
    "#### Let’s stop here. \n",
    "\n",
    "#### Downloading notebook as a PDF\n",
    "\n",
    "- **When you have finished your work and wish to submit your lab, you need to download this notebook as a pdf file. There are two common ways to do this.** \n",
    "1) **File > Save and Export Notebook As > PDF.**\n",
    "2) **File > Print > Save As PDF.**\n",
    "- **Submit the pdf file to Lab 1 Submission in Crowdmark.**\n",
    "\n",
    "\n",
    "#### Closing notebook and logging out\n",
    "\n",
    "#### It is important to save your work, exit the notebook, and logout of syzygy when you are done. Simply closing the window in which you are working will leave the notebook running which may produce problems.\n",
    "\n",
    "- **Select File > Save Notebook or select the Save icon above to save your work.**\n",
    "- **To exit the notebook, select File > Close and Shutdown Notebook.**\n",
    "- **Select File > Log Out.**"
   ]
  }
 ],
 "metadata": {
  "kernelspec": {
   "display_name": "R",
   "language": "R",
   "name": "ir"
  },
  "language_info": {
   "codemirror_mode": "r",
   "file_extension": ".r",
   "mimetype": "text/x-r-source",
   "name": "R",
   "pygments_lexer": "r",
   "version": "4.4.3"
  }
 },
 "nbformat": 4,
 "nbformat_minor": 4
}
