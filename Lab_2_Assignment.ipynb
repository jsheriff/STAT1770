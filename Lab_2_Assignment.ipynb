{
 "cells": [
  {
   "cell_type": "markdown",
   "metadata": {},
   "source": [
    "# Lab 2 Assignment\n",
    "\n",
    "---\n",
    "\n",
    "#### Lab 2 Assignment is due on Thursday, January 23 at 8:00 pm. Late assignments will receive a deduction of 20% per day.\n",
    "\n",
    "#### Complete this notebook, by introducing and executing the required code and answering the related questions.\n",
    "\n",
    "#### When you have finished your work and wish to submit your assignment, download this notebook as a pdf file File > Save and Export Notebook As > PDF or File > Print > Save as PDF.  Submit the pdf file to Lab 2 Assignment in Crowdmark.\n",
    "\n",
    "#### You can copy, paste, and modify code from previous labs if you wish, as opposed to writing code from scratch. Open the previous lab and highlight the code you want. Then copy and paste the code into this assignment and make the necessary modifications.\n",
    "\n",
    "#### If you have questions, please ask."
   ]
  },
  {
   "cell_type": "markdown",
   "metadata": {
    "editable": false,
    "slideshow": {
     "slide_type": "slide"
    },
    "tags": []
   },
   "source": [
    "### Reminder - working with notebooks\n",
    "\n",
    "#### 1) It is important to save your work, exit the notebook, and logout of syzygy whenever you are finished working on the notebook for that session.\n",
    "\n",
    "- **Select File > Save Notebook or select the Save icon above to save your work.**\n",
    "- **To exit the notebook, select File > Close and Shutdown Notebook.**\n",
    "- **Select File > Log Out.**\n",
    "\n",
    "\n",
    "#### 2) When you resume your work on a notebook, your previous work/output may still be displayed, but none of your previous work is maintained in memory accessible by the notebook. In particular, you will need to load the dataset again in order to continue working with the data. One easy way to refresh your notebook is to go to the notebook cell where you left off and do the following.\n",
    "\n",
    "- **Select Kernel > Restart Kernel and Run up to Selected Cell.**\n",
    "#### This will run all of the code in your notebook up to the selected cell."
   ]
  },
  {
   "cell_type": "markdown",
   "metadata": {
    "deletable": false,
    "jp-MarkdownHeadingCollapsed": true,
    "slideshow": {
     "slide_type": "slide"
    },
    "tags": []
   },
   "source": [
    "## General Research Question\n",
    "\n",
    "**What variables are assocated with the birthweight of a baby?**\n",
    "\n",
    "To begin investigating birthweights and some of the variables that may be associated with birthweights, we will conduct a preliminary exploration of data collected in North Carolina for approximately 1,000 births.\n",
    "\n",
    "---"
   ]
  },
  {
   "cell_type": "markdown",
   "metadata": {
    "editable": false,
    "jp-MarkdownHeadingCollapsed": true,
    "slideshow": {
     "slide_type": "slide"
    },
    "tags": []
   },
   "source": [
    "## North Carolina Births\n",
    "\n",
    "In 2004, the state of North Carolina released to the public a large data set containing information on births recorded in this state. This data set has been of interest to medical researchers who are studying the relation between habits and practices of expectant mothers and the birth of their children. This is a random sample of 1,000 cases from this data set.\n",
    "\n",
    "---"
   ]
  },
  {
   "cell_type": "markdown",
   "metadata": {},
   "source": [
    "## Data Information:\n",
    "\n",
    "### Data Set:\n",
    "\n",
    "#### Name: #### \n",
    "* `nc`\n",
    "\n",
    "\n",
    "#### Variables: ####\n",
    "\n",
    "The variables included in the dataset are  \n",
    "\n",
    "* `fage`: Father's age in years.\n",
    "* `mage`: Mother's age in years.\n",
    "* `mature`: Maturity status of mother.\n",
    "* `weeks`: Length of pregnancy in weeks.\n",
    "* `premie`: Whether the birth was classified as premature (premie) or full-term.\n",
    "* `visits`: Number of hospital visits during pregnancy.\n",
    "* `gained`: Weight gained by mother during pregnancy in pounds.\n",
    "* `weight`: Weight of the baby at birth in pounds.\n",
    "* `lowbirthweight`: Whether baby was classified as low birthweight (low) or not (not low).\n",
    "* `gender`: Gender of the baby, female or male.\n",
    "* `habit`: Status of the mother as a nonsmoker or a smoker.\n",
    "* `marital`: Whether mother is married or not married at birth.\n",
    "* `whitemom`: Whether mom is white or not white.\n"
   ]
  },
  {
   "cell_type": "markdown",
   "metadata": {},
   "source": [
    "## Load Data: "
   ]
  },
  {
   "cell_type": "code",
   "execution_count": null,
   "metadata": {
    "deletable": false,
    "editable": false
   },
   "outputs": [],
   "source": [
    "download.file(\"http://www.openintro.org/stat/data/nc.RData\",destfile = \"nc.RData\")\n",
    "load(\"nc.RData\")"
   ]
  },
  {
   "cell_type": "markdown",
   "metadata": {},
   "source": [
    "The `download.file` function and `load` function are used to import the dataset that will be used in the assignment. The data that is available to you is called `nc`. These commands instruct R to access the OpenIntro website and retrieve some data, which is in a file called `nc.RData`. The .RData indicates a file format, like .csv, .txt etc. R is capable of importing files of various formats (using the appropriate command). The `nc` dataset, which is contained within `nc.RData` is already in a format native to R.  "
   ]
  },
  {
   "cell_type": "markdown",
   "metadata": {},
   "source": [
    "We could use some combination of `head`, `tail`, `dim`, `names` to begin exploring the `nc` dataset."
   ]
  },
  {
   "cell_type": "code",
   "execution_count": null,
   "metadata": {},
   "outputs": [],
   "source": [
    "head(nc)\n",
    "dim(nc)"
   ]
  },
  {
   "cell_type": "markdown",
   "metadata": {
    "deletable": false,
    "editable": false
   },
   "source": [
    "#### Exercise 1: </br></br> Who, or what, are the subjects, or cases, or observations, in this study? (2 marks) "
   ]
  },
  {
   "cell_type": "markdown",
   "metadata": {
    "deletable": false,
    "editable": true
   },
   "source": [
    "#### Answer: "
   ]
  },
  {
   "cell_type": "markdown",
   "metadata": {},
   "source": [
    "We are interested in investigating factors that may be associated with birthweight of the baby. In particular we will consider age of the mother and the race of the mother."
   ]
  },
  {
   "cell_type": "markdown",
   "metadata": {
    "deletable": false,
    "editable": false
   },
   "source": [
    "#### Exercise 2: </br></br> Create a histogram of birthweight, `weight`. (2 marks)"
   ]
  },
  {
   "cell_type": "code",
   "execution_count": null,
   "metadata": {
    "deletable": false,
    "editable": true
   },
   "outputs": [],
   "source": []
  },
  {
   "cell_type": "markdown",
   "metadata": {
    "deletable": false,
    "editable": false
   },
   "source": [
    "#### Exercise 3: </br></br> Briefly describe the distribution of birthweight, paying attention to the shape, centre, and spread of the distribution, as well as any unusual observations. (3 marks)"
   ]
  },
  {
   "cell_type": "markdown",
   "metadata": {
    "deletable": false,
    "editable": true
   },
   "source": [
    "#### Answer: "
   ]
  },
  {
   "cell_type": "markdown",
   "metadata": {
    "deletable": false,
    "editable": false
   },
   "source": [
    "#### Exercise 4: </br></br> What is the mean birthweight, `weight`, in our data set? </br></br> What is the median birthweight, `weight`, in our data set?  (2 marks)"
   ]
  },
  {
   "cell_type": "code",
   "execution_count": null,
   "metadata": {
    "deletable": false,
    "editable": true
   },
   "outputs": [],
   "source": []
  },
  {
   "cell_type": "markdown",
   "metadata": {
    "deletable": false,
    "editable": true
   },
   "source": [
    "#### Answer: "
   ]
  },
  {
   "cell_type": "markdown",
   "metadata": {
    "deletable": false,
    "editable": false
   },
   "source": [
    "#### Exercise 5: </br></br> Are the relative values for the mean birthweight and median birthweight consistent with your description of the shape of the data? </br></br>Briefly explain.  (2 marks)"
   ]
  },
  {
   "cell_type": "markdown",
   "metadata": {
    "deletable": false,
    "editable": true
   },
   "source": [
    "#### Answer: "
   ]
  },
  {
   "cell_type": "markdown",
   "metadata": {
    "deletable": false,
    "editable": false
   },
   "source": [
    "#### Exercise 6: </br></br> Create a plot of birthweight, `weight` (response) against the length of the pregnancy, `weeks` (explanatory).  (3 marks)"
   ]
  },
  {
   "cell_type": "code",
   "execution_count": null,
   "metadata": {
    "deletable": false,
    "editable": true,
    "slideshow": {
     "slide_type": ""
    },
    "tags": []
   },
   "outputs": [],
   "source": []
  },
  {
   "cell_type": "markdown",
   "metadata": {
    "deletable": false,
    "editable": false
   },
   "source": [
    "#### Exercise 7: </br></br> Does there appear to be an association/relationship between birthweight and the length of the pregnancy? If so, how would you describe the association.  (3 marks)"
   ]
  },
  {
   "cell_type": "markdown",
   "metadata": {
    "deletable": false,
    "editable": true
   },
   "source": [
    "#### Answer: "
   ]
  },
  {
   "cell_type": "markdown",
   "metadata": {
    "deletable": false,
    "editable": false
   },
   "source": [
    "#### Exercise 8:  </br></br> Create a plot of birthweight, `weight` (response) against mother's smoking status, `habit` (explanatory).  (3 marks)"
   ]
  },
  {
   "cell_type": "code",
   "execution_count": null,
   "metadata": {
    "deletable": false,
    "editable": true
   },
   "outputs": [],
   "source": []
  },
  {
   "cell_type": "markdown",
   "metadata": {
    "deletable": false,
    "editable": false,
    "slideshow": {
     "slide_type": "slide"
    },
    "tags": []
   },
   "source": [
    "#### Exercise 9: </br></br> Does there appear to be an association/relationship between birthweight and the smoking status of the mother? If so, how would you describe the association.  (3 marks)"
   ]
  },
  {
   "cell_type": "markdown",
   "metadata": {
    "deletable": false,
    "editable": true
   },
   "source": [
    "#### Answer: "
   ]
  },
  {
   "cell_type": "markdown",
   "metadata": {},
   "source": [
    "- **When you have finished your work and wish to submit your lab, you need to download this notebook as a pdf file. There are two common ways to do this.** \n",
    "1) **File > Save and Export Notebook As > PDF.**\n",
    "2) **File > Print > Save As PDF.**\n",
    "- **Submit the pdf file to Lab 2 in Crowdmark.**\n",
    "\n",
    "\n",
    "#### It is important to save your work, exit the notebook, and logout of syzygy when you are done.\n",
    "\n",
    "- **Select File > Save Notebook or select the Save icon above to save your work.**\n",
    "- **To exit the notebook, select File > Close and Shutdown Notebook.**\n",
    "- **Select File > Log Out.**"
   ]
  }
 ],
 "metadata": {
  "kernelspec": {
   "display_name": "R",
   "language": "R",
   "name": "ir"
  },
  "language_info": {
   "codemirror_mode": "r",
   "file_extension": ".r",
   "mimetype": "text/x-r-source",
   "name": "R",
   "pygments_lexer": "r",
   "version": "4.4.1"
  }
 },
 "nbformat": 4,
 "nbformat_minor": 4
}
