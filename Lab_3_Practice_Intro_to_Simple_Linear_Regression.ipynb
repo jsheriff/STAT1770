{
 "cells": [
  {
   "cell_type": "markdown",
   "metadata": {},
   "source": [
    "# Lab 3 Practice: Introduction to Simple Linear Regression"
   ]
  },
  {
   "cell_type": "markdown",
   "metadata": {
    "jp-MarkdownHeadingCollapsed": true
   },
   "source": [
    "## Reminder - working with notebooks\n",
    "\n",
    "#### 1) It is important to save your work, exit the notebook, and logout of syzygy whenever you are finished working on the notebook for that session. Simply closing the window in which you are working will leave the notebook running which can produce some minor problems when you next try to log in to resume working on the notebook.\n",
    "\n",
    "- **Select File > Save Notebook or select the Save icon above to save your work.**\n",
    "- **To exit the notebook, select File > Close and Shutdown Notebook.**\n",
    "- **Select File > Log Out.**\n",
    "\n",
    "\n",
    "#### 2) When you resume your work on a notebook, your previous work/output may still be displayed, but none of your previous work is maintained in memory accessible by the notebook. In particular, you will need to load the dataset again in order to continue working with the data. One easy way to refresh your notebook is to go to the notebook cell where you left off and do the following.\n",
    "\n",
    "- **Select Kernel > Restart Kernel and Run up to Selected Cell.**\n",
    "#### This will run all of the code in your notebook up to the selected cell."
   ]
  },
  {
   "cell_type": "markdown",
   "metadata": {
    "slideshow": {
     "slide_type": "slide"
    }
   },
   "source": [
    "## Objectives\n",
    "\n",
    "* Relationship between two numerical variables\n",
    "* Graphical summary: scatterplot\n",
    "* Numerical summary: correlation\n",
    "* Modelling linear relationship: linear regression."
   ]
  },
  {
   "cell_type": "markdown",
   "metadata": {
    "slideshow": {
     "slide_type": "slide"
    }
   },
   "source": [
    "### Reaearch Question\n",
    "\n",
    "How well does SAT scores or high school GPA predict student success at the postsecondary level?  "
   ]
  },
  {
   "cell_type": "markdown",
   "metadata": {
    "slideshow": {
     "slide_type": "slide"
    }
   },
   "source": [
    "## University/College Admission Decisions\n",
    "\n",
    "Universities and colleges in Canada generally rely upon high school grades when making admission decisions regarding high school graduates. In the U.S., the use of standard test scores when making admission decisions is quite common. The SAT (Scholastic Assessment Test) and ACT (American College Testing) are the most common entrance exams used by U.S. universities and colleges when making admission decisions. Considerable research has been undertaken into the ability of these standardized tests and high school grades to predict success at university. In what follows, we will study the relationship of both SAT scores and high school GPA with first year GPA at university/college. \n",
    "\n",
    "**Note: SAT has a verbal component and a math component. The maximum score for each of these is 800, which means the maximum total score is 1600. As you will see, our dataset records the verbal SAT percentile and math SAT percentile for each student instead of the raw score. The maximum percentile on each component would be 100, making 200 the maximum total of the verbal and math percentiles.**"
   ]
  },
  {
   "cell_type": "markdown",
   "metadata": {
    "slideshow": {
     "slide_type": "slide"
    }
   },
   "source": [
    "## Data Information:\n",
    "\n",
    "### Data Set:\n",
    "\n",
    "This dataset contains SAT and GPA data for 1000 students at an unnamed college.\n",
    "\n",
    "\n",
    "#### Name: #### \n",
    "* `satgpa` - SAT and GPA data for 1000 students at an unnamed college\n",
    "\n",
    "#### Variables: ####\n",
    "* `sex` - Gender of the student.\n",
    "* `sat_v` - Verbal SAT percentile.\n",
    "* `sat_m` - Math SAT percentile.\n",
    "* `sat_sum` - Total of verbal and math SAT percentiles.\n",
    "* `hs_gpa` - High school grade point average.\n",
    "* `fy_gpa` - First year (college) grade point average."
   ]
  },
  {
   "cell_type": "markdown",
   "metadata": {},
   "source": [
    "## Load Data: "
   ]
  },
  {
   "cell_type": "code",
   "execution_count": null,
   "metadata": {
    "slideshow": {
     "slide_type": ""
    },
    "tags": []
   },
   "outputs": [],
   "source": [
    "source(\"http://www.openintro.org/data/R/satgpa.R\")"
   ]
  },
  {
   "cell_type": "markdown",
   "metadata": {},
   "source": [
    "The `source` function is used to import the dataset that will be used in the tutorial. The data that is available to you is called `satgpa`."
   ]
  },
  {
   "cell_type": "markdown",
   "metadata": {
    "slideshow": {
     "slide_type": "slide"
    }
   },
   "source": [
    "We may wish to begin by using some combination of the `names`, `dim`, `str`, and `head` commands to begin exploring the `satgpa` dataset."
   ]
  },
  {
   "cell_type": "markdown",
   "metadata": {
    "slideshow": {
     "slide_type": "slide"
    }
   },
   "source": [
    "`names` lists the names of the variables in the dataset. "
   ]
  },
  {
   "cell_type": "code",
   "execution_count": null,
   "metadata": {
    "slideshow": {
     "slide_type": "slide"
    }
   },
   "outputs": [],
   "source": [
    "names(satgpa)"
   ]
  },
  {
   "cell_type": "markdown",
   "metadata": {},
   "source": [
    "`dim` reports the dimension, or size, of the dataset measured as the number of rows (observations) and number of columns (generally the number of variables)."
   ]
  },
  {
   "cell_type": "code",
   "execution_count": null,
   "metadata": {
    "slideshow": {
     "slide_type": "slide"
    }
   },
   "outputs": [],
   "source": [
    "dim(satgpa)"
   ]
  },
  {
   "cell_type": "markdown",
   "metadata": {},
   "source": [
    " `str` reports the structure of the dataset. It lists the variables in the dataset, identifies the type of each variable, and provides a glimpse of some of the data recorded for each variable."
   ]
  },
  {
   "cell_type": "code",
   "execution_count": null,
   "metadata": {
    "slideshow": {
     "slide_type": "slide"
    }
   },
   "outputs": [],
   "source": [
    "str(satgpa)"
   ]
  },
  {
   "cell_type": "markdown",
   "metadata": {},
   "source": [
    " `head` reports few rows of data in the dataset. The default is the first six rows, but the `n = k` argument may be included to specify the number of rows to display."
   ]
  },
  {
   "cell_type": "code",
   "execution_count": null,
   "metadata": {
    "slideshow": {
     "slide_type": "slide"
    }
   },
   "outputs": [],
   "source": [
    "head(satgpa)"
   ]
  },
  {
   "cell_type": "markdown",
   "metadata": {
    "slideshow": {
     "slide_type": "slide"
    }
   },
   "source": [
    "### Graphical Summary\n",
    "\n",
    "Before investigating the relationship between total SAT score and first year GPA, or between high school GPA and first year GPA, it is a good idea to review the individual variables. One common way to visualize a single numerical variable is with **histograms** (`hist`). \n",
    "\n",
    "#### Histogram\n",
    "\n",
    "We can begin by looking at the histogram, `hist`, for the variable `fy_gpa` with the command"
   ]
  },
  {
   "cell_type": "code",
   "execution_count": null,
   "metadata": {},
   "outputs": [],
   "source": [
    "hist(satgpa$fy_gpa, xlab = \"GPA\", main = \"First Year GPA\")"
   ]
  },
  {
   "cell_type": "markdown",
   "metadata": {},
   "source": [
    "How might one describe the distribution of first year GPA?\n",
    "\n",
    "First year GPA appears to be unimodal and slightly left skewed. Typical first year GPA is between 2-3 and almost all GPAs are between 1 and 4 (or 0 and 4). There do not appear to be any unusual observations. "
   ]
  },
  {
   "cell_type": "markdown",
   "metadata": {},
   "source": [
    "Next, we can look at the total verbal and math SAT percentiles, `sat_sum`."
   ]
  },
  {
   "cell_type": "code",
   "execution_count": null,
   "metadata": {},
   "outputs": [],
   "source": [
    "hist(satgpa$sat_sum, xlab = \"Total Percentile\", main = \"Total Verbal and Math SAT Percentile\")"
   ]
  },
  {
   "cell_type": "markdown",
   "metadata": {},
   "source": [
    "How might one describe the distribution of total verbal and math SAT percentiles?\n",
    "\n",
    "Total verbal and math SAT percentiles appears to be unimodal and symmetric (bell-shaped). Typical total percentiles is around 100 and almost total percentiles are between 60 and 140 (or 70 and 130, or 50 and 150). There do not appear to be any unusual observations. "
   ]
  },
  {
   "cell_type": "markdown",
   "metadata": {
    "slideshow": {
     "slide_type": "slide"
    }
   },
   "source": [
    "#### Question: Construct a histogram for the high school GPA, `hs_gpa`, of the subjects in the study."
   ]
  },
  {
   "cell_type": "code",
   "execution_count": null,
   "metadata": {},
   "outputs": [],
   "source": []
  },
  {
   "cell_type": "markdown",
   "metadata": {},
   "source": [
    "<details>\n",
    "\n",
    "<summary><b>Click to view sample code:</b></summary>\n",
    "\n",
    "```\n",
    "hist(satgpa$hs_gpa, xlab = \"GPA\", main = \"High School GPA\")\n",
    "```\n",
    "\n",
    "</details>"
   ]
  },
  {
   "cell_type": "markdown",
   "metadata": {
    "slideshow": {
     "slide_type": "slide"
    }
   },
   "source": [
    "#### Question: Describe the distribution of high school GPA."
   ]
  },
  {
   "cell_type": "markdown",
   "metadata": {},
   "source": [
    "#### Answer"
   ]
  },
  {
   "cell_type": "markdown",
   "metadata": {},
   "source": [
    "<details>\n",
    "\n",
    "<summary><b>Sample Answer:</b></summary>\n",
    "\n",
    "The distribution of high school GPA may be bimodal, with one mode concentrated around a GPA of 3.5-4.0 and another mode concentrated around 2.75-3.0. \n",
    "\n",
    "**Note 1: If the distribution is actually bimodal, what might explain the two modes? Perhaps we are observing two distinct groups of students, one of which gained admission primarily on the basis of high high school GPA and another group whose high school GPA may not be as high, but perhaps performed well on one of the standardized tests. Alternatively, perhaps the mode at the lower GPA reflects a tendency to bump students sitting at C or C+ to a B-.**\n",
    "\n",
    "**Note 2: Why doesn't the distribution of high school GPA look more like the distribution of first year GPA? If we consider high school GPA for all students in their final year of high school, it probably would be more similar, bell-shaped, centred around 2-3, and ranging from 0-4. However, we are only looking at those students who went on to university/college. So it is reasonable that GPA for these student will tend to be concentrated at higher values. Once these students are in university/college, there is nothing to prevent grades for exhibitng a more bell-shaped distribution ranging from 0-4.**\n",
    "\n",
    "</details>"
   ]
  },
  {
   "cell_type": "markdown",
   "metadata": {},
   "source": [
    "#### Scatterplots\n",
    "\n",
    "**Scatterplots** are useful for exploring the **relationship** between **two numerical variables**. \n",
    "\n",
    "The `plot` function may be used to create a scatterplot, by including the two quantitative variables of interest as arguments.  \n",
    "\n",
    "Construct a scatterplot to display the relationship between first year GPA, `fy_gpa`, and total verbal and math SAT percentiles, using the variable `sat_sum` as the predictor (explanatory) variable and the variable `fy_gpa` as the response variable.  \n",
    "\n",
    "There are two ways to do this using the `plot` function.\n",
    "\n",
    "One way is to use `x = ` and `y = ` to identify the explanatory variable and response variable. "
   ]
  },
  {
   "cell_type": "code",
   "execution_count": null,
   "metadata": {},
   "outputs": [],
   "source": [
    "plot(x = satgpa$sat_sum, y = satgpa$fy_gpa)"
   ]
  },
  {
   "cell_type": "markdown",
   "metadata": {},
   "source": [
    "Alternatively, one may use `y~x` notation to state the relationship between the two variables of interest. For example"
   ]
  },
  {
   "cell_type": "code",
   "execution_count": null,
   "metadata": {},
   "outputs": [],
   "source": [
    "plot(satgpa$fy_gpa ~ satgpa$sat_sum)"
   ]
  },
  {
   "cell_type": "markdown",
   "metadata": {
    "slideshow": {
     "slide_type": "slide"
    }
   },
   "source": [
    "The `plot` function only requires the data to be graphed, but there are some optional arguments that may be used to customize the plot. Some of these optional arguments include:\n",
    "\n",
    "* `xlab` - specify the label for the x-axis, eg `xlab = \"x-axis label\"`\n",
    "* `xlim` - specify the minimum and maximum value for the x-axis, eg `xlim=c(minimum, maximum)`\n",
    "* `ylab` - specify the label for the y-axis, eg `ylab = \"y-axis label\"`\n",
    "* `ylim` - specify the minimum and maximum value for the y-axis, eg `ylim=c(minimum, maximum)`\n",
    "* `main` - specify a main title for the graph, eg `main = \"Main Title for the Graph\"`\n",
    "\n",
    "Not all of these options will be relevant in each situation. There are also more optional arguments that we will explore in coming weeks."
   ]
  },
  {
   "cell_type": "code",
   "execution_count": null,
   "metadata": {},
   "outputs": [],
   "source": [
    "plot(x = satgpa$sat_sum, y = satgpa$fy_gpa, xlab = \"Total Verbal and Math SAT Percentiles\", ylab = \"First Year GPA\")"
   ]
  },
  {
   "cell_type": "markdown",
   "metadata": {
    "slideshow": {
     "slide_type": "slide"
    }
   },
   "source": [
    "#### Question: <br>-Does there appear to be a relationship between total verbal and math SAT percentiles and first year GPA? <br>-If there does appear to be a relationship, does the relationship appear to be positive or negative? <br>-Does the relationship look linear? <br>-How strong is the relationship? "
   ]
  },
  {
   "cell_type": "markdown",
   "metadata": {},
   "source": [
    "#### Answer: "
   ]
  },
  {
   "cell_type": "markdown",
   "metadata": {},
   "source": [
    "<details>\n",
    "\n",
    "<summary><b>Sample Answer:</b></summary>\n",
    "\n",
    "*There does appear to be a relationship between total verbal and math SAT percentiles and first year GPA. In particular as the total SAT percentiles increases, first year GPA also tends to increase. This represents a positive relationship. The relationship appears to be roughly linear, and moderately strong. There are a few unusual observations*\n",
    "\n",
    "</details>"
   ]
  },
  {
   "cell_type": "markdown",
   "metadata": {
    "slideshow": {
     "slide_type": "slide"
    }
   },
   "source": [
    "#### Question:  If you knew a students's total verbal and math SAT percentiles, would  you be comfortable using a linear model to predict first year GPA for that student? "
   ]
  },
  {
   "cell_type": "markdown",
   "metadata": {},
   "source": [
    "#### Answer:"
   ]
  },
  {
   "cell_type": "markdown",
   "metadata": {},
   "source": [
    "<details>\n",
    "\n",
    "<summary><b>Sample Answer:</b></summary>\n",
    "\n",
    "*Since the relationship seems roughly linear, I would feel comfortable using a linear model to predict firat year GPA using total verbal and math SAT percentiles. However, because the data is so spread out, there is not a very strong linear relationship between total SAT percentiles and first year GPA. Hence, I would not expect my predictions to be especially accurate.*\n",
    "\n",
    "\n",
    "</details>"
   ]
  },
  {
   "cell_type": "markdown",
   "metadata": {},
   "source": [
    "#### Question: Construct a scatterplot to display the relationship between high school GPA, `hs_gpa`, and first year GPA, `fy_gpa`, using the variable `hs_gpa` as the predictor (explanatory) variable and the variable `fy_gpa` as the response variable.  "
   ]
  },
  {
   "cell_type": "code",
   "execution_count": null,
   "metadata": {},
   "outputs": [],
   "source": []
  },
  {
   "cell_type": "markdown",
   "metadata": {},
   "source": [
    "<details>\n",
    "\n",
    "<summary><b>Click to view sample code:</b></summary>\n",
    "\n",
    "<br>\n",
    "\n",
    "Option 1\n",
    "```\n",
    "plot(x = satgpa$hs_gpa, y = satgpa$fy_gpa, xlab = \"High School GPA\", ylab = \"First Year GPA\")\n",
    "```\n",
    "\n",
    "<br>\n",
    "\n",
    "Option 2\n",
    "```\n",
    "plot(satgpa$fy_gpa ~ satgpa$hs_gpa, xlab = \"High School GPA\", ylab = \"First Year GPA\")\n",
    "```\n",
    "\n",
    "</details>"
   ]
  },
  {
   "cell_type": "markdown",
   "metadata": {
    "slideshow": {
     "slide_type": "slide"
    }
   },
   "source": [
    "### Numerical Summary\n",
    "\n",
    "When summarizing a single quantitative variable, we used numerical quantities such as the mean and standard deviation. It would be useful to be able to summarize the relationship between two quantitative variables. If the relationship looks linear, we can describe the relationship by quantifying the strength of the linear relationship, and by choosing the line that best fits, or summarizes, the relationship."
   ]
  },
  {
   "cell_type": "markdown",
   "metadata": {
    "slideshow": {
     "slide_type": "slide"
    }
   },
   "source": [
    "### Correlation\n",
    "\n",
    "The scatterplot provides a visual indication of how well the regression line *fits* the data. The **Correlation coefficient** is a numerical summary used to quantify the **strength of the linear relationship** between to quantitative variables. Correlation ranges between +1, for variables with a perfect positive linear relationship, to -1, for variables with a perfect negative linear relationship. A correlation of 0 represents no linear relationship between two numerical variables. The `cor` function is used for this. `cor(x,y)` calculates the correlation between two quantitative variables `x` and `y`."
   ]
  },
  {
   "cell_type": "code",
   "execution_count": null,
   "metadata": {
    "slideshow": {
     "slide_type": "slide"
    }
   },
   "outputs": [],
   "source": [
    "cor(satgpa$sat_sum, satgpa$fy_gpa)"
   ]
  },
  {
   "cell_type": "markdown",
   "metadata": {},
   "source": [
    "#### Question: Calculate the correlation between `hs_gpa` and `fy_gpa`."
   ]
  },
  {
   "cell_type": "code",
   "execution_count": null,
   "metadata": {},
   "outputs": [],
   "source": []
  },
  {
   "cell_type": "markdown",
   "metadata": {},
   "source": [
    "<details>\n",
    "\n",
    "<summary><b>Click to view sample code:</b></summary>\n",
    "\n",
    "\n",
    "```\n",
    "cor(satgpa$hs_gpa, satgpa$fy_gpa)\n",
    "```\n",
    "\n",
    "</details>"
   ]
  },
  {
   "cell_type": "markdown",
   "metadata": {},
   "source": [
    "### The linear model\n",
    "\n",
    "Choosing a line that summarizes the relationship between two quantitative variable, mean choosing and **intercept, $b_0$**, and **slope, $b_1$**, such that for each value of the explanatory variable, $x$, we can predict the value of the response variable, $\\hat{y}$.\n",
    "\n",
    "$$\\hat{y} = b_0 + b_1\\cdot x$$\n",
    "\n",
    "To find the line that **best** summarizes the relationship, we need to consider the difference between the observed values and the values predicted by the line.\n",
    "\n",
    "$$ e_i = y_i - \\hat{y}_i$$\n",
    "\n",
    "The $e_i$'s represent the residuals, or prediction errors, associated with the proposed linear relationship.  \n",
    "\n",
    "The most common way to do linear regression is to select the line, that is to select intercept, $a$, and slope, $b$, that minimizes the sum of squared residuals.\n",
    "\n",
    "$$\\sum e_i^2 = \\sum (y_i - \\hat{y}_i)^2$$\n",
    "\n",
    "It is rather cumbersome to try to get the correct **least squares line**, i.e. the line that minimizes the sum of squared residuals by hand, either through trial and error or through the use of calculus. \n",
    "\n",
    "Instead we can use the `lm` function in R to fit the linear model (find the least squares regression line)."
   ]
  },
  {
   "cell_type": "code",
   "execution_count": null,
   "metadata": {},
   "outputs": [],
   "source": [
    "regress1 = lm(fy_gpa ~ sat_sum, data = satgpa)"
   ]
  },
  {
   "cell_type": "markdown",
   "metadata": {},
   "source": [
    "* The first argument in the function lm is a formula that takes the form `y ~ x`. Here it can be read that we want to make a linear model of `fy_gpa` as a function of `sat_sum`.  \n",
    "  \n",
    "\n",
    "* The second argument specifies that R should look in the `satgpa` data frame to find the `fy_gpa` and `sat_sum` variables.\n",
    "  \n",
    "  \n",
    "* The output of the `lm` function is being saved to a new object called `regress1` here, that contains information about the linear model that was just fit. We can access this information using the `summary` function."
   ]
  },
  {
   "cell_type": "code",
   "execution_count": null,
   "metadata": {},
   "outputs": [],
   "source": [
    "summary(regress1)"
   ]
  },
  {
   "cell_type": "markdown",
   "metadata": {},
   "source": [
    "Consider this output piece by piece. \n",
    "\n",
    "* First, the formula used to describe the model is shown at the top. \n",
    "  \n",
    "  \n",
    "* After the formula you find the five-number summary of the residuals.  \n",
    "  \n",
    "  \n",
    "* The `Coefficients` table shown next is key; its first column displays the linear model's *y*-intercept and the coefficient of the explanatory variable, `sat_sum`. With this table, we can write down the least squares regression line for the linear model:\n",
    "\n",
    "$$\\hat{fy\\_gpa} = 0.00193 + 0.02387 \\cdot sat\\_sum$$\n",
    "\n",
    "or\n",
    "\n",
    "$$\\hat{y} = 0.00193 + 0.02387 \\cdot x$$\n",
    "\n",
    "The output also contains additional information. Some of this will be covered in a subsequent lab, and some is not covered in our course."
   ]
  },
  {
   "cell_type": "markdown",
   "metadata": {
    "slideshow": {
     "slide_type": "slide"
    }
   },
   "source": [
    "#### Question:  Fit a new model that uses `hs_gpa` to predict `fy_gpa`. (Use a different model name than `regress1` to save the results)"
   ]
  },
  {
   "cell_type": "code",
   "execution_count": null,
   "metadata": {},
   "outputs": [],
   "source": []
  },
  {
   "cell_type": "markdown",
   "metadata": {},
   "source": [
    "<details>\n",
    "\n",
    "<summary><b>Click to view sample code:</b></summary>\n",
    "\n",
    "\n",
    "```\n",
    "regress2 = lm(fy_gpa ~ hs_gpa, data = satgpa)\n",
    "summary(regress2)\n",
    "```\n",
    "\n",
    "</details>"
   ]
  },
  {
   "cell_type": "markdown",
   "metadata": {},
   "source": [
    "#### Question: Using the R output from fitting the linear model, write the equation of the regression line.  "
   ]
  },
  {
   "cell_type": "markdown",
   "metadata": {},
   "source": [
    "#### Answer:  "
   ]
  },
  {
   "cell_type": "markdown",
   "metadata": {},
   "source": [
    "<details>\n",
    "\n",
    "<summary><b>Sample Answer:</b></summary>\n",
    "\n",
    "$\\hat{fy\\_gpa} = 0.09132 + (0.74314) \\times (hs\\_gpa)$\n",
    "\n",
    "#### Your answer does not need to use $\\hat{fy\\_gpa}$ notation. Your answer could simply use *fy_gpa*, or *fy_gpa-hat*.  \n",
    "\n",
    "</details>"
   ]
  },
  {
   "cell_type": "markdown",
   "metadata": {},
   "source": [
    "### Add regression line to scatterplot\n",
    "\n",
    "Let’s create a scatterplot of `fy_gpa` versus `sat_sum` with the least squares overlaid on top. The function `abline` may be used to add a line of the form $y=a+bx$ to any plot. For example to add a line corresponding to the regression equation one could use `abline(a=0.00193, b=0.02387)`.\n",
    "\n",
    "However, since the regression object `regress1` contains all of the relevant information regarding the slope and intercept of the regression line, the `abline` function can be used in conjunction with the `regress1` object. Therefore, `abline(regress1)` will add the regression line to the scatterplot. "
   ]
  },
  {
   "cell_type": "code",
   "execution_count": null,
   "metadata": {
    "editable": false,
    "slideshow": {
     "slide_type": ""
    },
    "tags": []
   },
   "outputs": [],
   "source": [
    "plot(x = satgpa$sat_sum, y = satgpa$fy_gpa, xlab = \"Total SAT score\", ylab = \"GPA in first year of university/college team\")\n",
    "abline(regress1)"
   ]
  },
  {
   "cell_type": "markdown",
   "metadata": {},
   "source": [
    "#### Question: Create a scatterplot of first year GPA, `fy_gpa`, and high school GPA, `hs_gpa`, with the least squares line overlaid on the scatterplot."
   ]
  },
  {
   "cell_type": "code",
   "execution_count": null,
   "metadata": {},
   "outputs": [],
   "source": []
  },
  {
   "cell_type": "markdown",
   "metadata": {},
   "source": [
    "<details>\n",
    "\n",
    "<summary><b>Click to view sample code:</b></summary>\n",
    "\n",
    "\n",
    "```\n",
    "plot(x = satgpa$hs_gpa, y = satgpa$fy_gpa, xlab = \"High school GPA\", ylab = \"GPA in first year of university/college\")\n",
    "abline(regress2)\n",
    "```\n",
    "\n",
    "</details>"
   ]
  },
  {
   "cell_type": "markdown",
   "metadata": {},
   "source": [
    "### Prediction and prediction errors"
   ]
  },
  {
   "cell_type": "markdown",
   "metadata": {},
   "source": [
    "The regression equation may be used to predict `y` at any value of `x`. When predictions are made for values of `x` that are beyond the range of the observed data, it is referred to as **extrapolation** and is not usually recommended. However, predictions made within the range of the data are more reliable. In a subsequent lab we will consider an R function that may be used for prediction, but for now we will rely upon calculations by hand."
   ]
  },
  {
   "cell_type": "markdown",
   "metadata": {},
   "source": [
    "#### Question: Student number 1 in the dataset had total verbal and math SAT percentiles of 127. What first year GPA would the least squares regression line predict for a student with total SAT percentiles of 127?\n",
    "**You can just use your calculator together with the regression equation in order to predict first year GPA. There is a `predict` function that may be used for this purpose, but we will not use this function at this time.** "
   ]
  },
  {
   "cell_type": "markdown",
   "metadata": {},
   "source": [
    "#### Answer:"
   ]
  },
  {
   "cell_type": "markdown",
   "metadata": {},
   "source": [
    "<details>\n",
    "\n",
    "<summary><b>Sample Answer:</b></summary>\n",
    "\n",
    "*$$\\hat{fy\\_gpa} = 0.00193 + 0.02387 \\cdot sat\\_sum$$ $$= 0.00193 + (0.02387)(127) = 3.03$$. The model predicts a first year GPA of approximately 3.03 for a student with total SAT percentiles of 127.*\n",
    "\n",
    "#### Your answer does not need to use $\\hat{fy\\_gpa}$ notation. Your answer could simply use *fy_gpa*, or *fy_gpa-hat*.  \n",
    "\n",
    "</details>"
   ]
  },
  {
   "cell_type": "markdown",
   "metadata": {},
   "source": [
    "####  Question: Student number 1 in the dataset actually recorded a first year GPA of 3.18. Did the linear model overestimate or underestimate first year GPA for Student 1?"
   ]
  },
  {
   "cell_type": "markdown",
   "metadata": {},
   "source": [
    "#### Answer:  "
   ]
  },
  {
   "cell_type": "markdown",
   "metadata": {},
   "source": [
    "<details>\n",
    "\n",
    "<summary><b>Sample Answer:</b></summary>\n",
    "\n",
    "*The model underestimated the actual first year GPA for student 1, by about 0.15 points $(y-\\hat{y}= 3.18 - 3.03 = 0.15)$*\n",
    "\n",
    "</details>"
   ]
  },
  {
   "cell_type": "markdown",
   "metadata": {},
   "source": [
    "#### Let’s stop here. \n",
    "\n",
    "#### It is important to save your work, exit the notebook, and logout of syzygy when you are done. Simply closing the window in which you are working will leave the notebook running which can produce some minor problems when you next try to log in.\n",
    "\n",
    "- **Select File > Save Notebook or select the Save icon above to save your work.**\n",
    "- **To exit the notebook, select File > Close and Shutdown Notebook.**\n",
    "- **Select File > Log Out.**"
   ]
  }
 ],
 "metadata": {
  "kernelspec": {
   "display_name": "R",
   "language": "R",
   "name": "ir"
  },
  "language_info": {
   "codemirror_mode": "r",
   "file_extension": ".r",
   "mimetype": "text/x-r-source",
   "name": "R",
   "pygments_lexer": "r",
   "version": "4.4.3"
  }
 },
 "nbformat": 4,
 "nbformat_minor": 4
}
