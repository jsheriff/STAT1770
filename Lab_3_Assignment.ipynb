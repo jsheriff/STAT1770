{
 "cells": [
  {
   "cell_type": "markdown",
   "id": "23f68063",
   "metadata": {
    "deletable": false,
    "editable": false
   },
   "source": [
    "# Lab 3 Assignment\n",
    "\n",
    "#### Lab 3 Assignment is due on Friday, October 3 at 8:00 pm. Late assignments will receive a deduction of 20% per day. \n",
    "\n",
    "#### Complete this notebook, by introducing and executing the required code and answering the related questions.\n",
    "\n",
    "#### When you have finished your work and wish to submit your assignment, download this notebook as a pdf file: <br>- File > Save and Export Notebook As > PDF <br>or <br>- File > Print > Save as PDF.  <br>Submit the pdf file to Lab 3 Assignment in Crowdmark.\n",
    "\n",
    "#### You can copy, paste, and modify code from previous labs if you wish, as opposed to writing code from scratch. Open the previous lab and highlight the code you want. Then copy and paste the code into this assignment and make the necessary modifications.\n",
    "\n",
    "#### If you have questions, please ask.\n",
    "\n",
    "---"
   ]
  },
  {
   "cell_type": "markdown",
   "id": "b31e96ea-09d6-40eb-b6ff-8d22862c0eab",
   "metadata": {
    "deletable": false,
    "editable": false
   },
   "source": [
    "## Reminder - working with notebooks\n",
    "\n",
    "#### 1) It is important to save your work, exit the notebook, and logout of syzygy whenever you are finished working on the notebook for that session.\n",
    "\n",
    "- **Select File > Save Notebook or select the Save icon above to save your work.**\n",
    "- **To exit the notebook, select File > Close and Shutdown Notebook.**\n",
    "- **Select File > Log Out.**\n",
    "\n",
    "\n",
    "#### 2) When you resume your work on a notebook, your previous work/output may still be displayed, but none of your previous work is maintained in memory accessible by the notebook. In particular, you will need to load the dataset again in order to continue working with the data. One easy way to refresh your notebook is to go to the notebook cell where you left off and do the following.\n",
    "\n",
    "- **Select Kernel > Restart Kernel and Run up to Selected Cell.**\n",
    "#### This will run all of the code in your notebook up to the selected cell."
   ]
  },
  {
   "cell_type": "markdown",
   "id": "3e9ab153-ff61-4b62-9122-8a6cff3356bb",
   "metadata": {
    "deletable": false,
    "editable": false
   },
   "source": [
    "## General Research Question\n",
    "\n",
    "**How does tree diameter relate to tree height?**\n",
    "\n",
    "---"
   ]
  },
  {
   "cell_type": "markdown",
   "id": "c7a07616-c229-40bc-ba63-b7fd72a746ca",
   "metadata": {
    "deletable": false,
    "editable": false
   },
   "source": [
    "## Tree diameter and tree height\n",
    "\n",
    "The cost of measuring tree height in forest inventory is greater than that of measuring tree diameter, leading to the need for equations to predict tree height from measured diameter. Researchers wanting to understand the relationship between these variables for black cherry trees collected data from black cherry trees in the Allegheny National Forest, Pennsylvania.\n",
    "\n",
    "---"
   ]
  },
  {
   "cell_type": "markdown",
   "id": "a400213f-8aab-4d8c-bdfb-caf8c9487b09",
   "metadata": {
    "deletable": false,
    "editable": false
   },
   "source": [
    "## Data Information:\n",
    "\n",
    "### Data Set:\n",
    "\n",
    "#### Name: #### \n",
    "* `cherry`: dataset containing results from study\n",
    "\n",
    "\n",
    "#### Variables: ####\n",
    "\n",
    "* `diam`: tree diameter in inches (at 54 inches above ground).\n",
    "* `height`: tree height, measured in feet.\n",
    "* `volume`: tree volume in cubic feet."
   ]
  },
  {
   "cell_type": "markdown",
   "id": "c2d8598f-37c3-4b0c-b980-7bd0842cad95",
   "metadata": {},
   "source": [
    "## Load Data: "
   ]
  },
  {
   "cell_type": "code",
   "execution_count": null,
   "id": "041ca202-04a3-44e5-831d-565dc02cab3d",
   "metadata": {
    "deletable": false,
    "editable": false
   },
   "outputs": [],
   "source": [
    "download.file(\"http://www.openintro.org/data/rda/cherry.rda\",destfile = \"cherry.rda\")\n",
    "load(\"cherry.rda\")"
   ]
  },
  {
   "cell_type": "markdown",
   "id": "55f4d7b4-2c1d-4920-ac01-306da52b5582",
   "metadata": {},
   "source": [
    "The `download.file` function and `load` function are used to import the dataset that will be used in the assignment. The dataset is called `cherry`. These commands instruct R to access the OpenIntro website and retrieve some data, which is in a file called `cherry.rda`. The .rda indicates a file format, like .csv, .txt etc. R is capable of importing files of various formats (using the appropriate command). The `cherry` dataset, which is contained within `cherry.rda` is already in a format native to R."
   ]
  },
  {
   "cell_type": "markdown",
   "id": "c889aece-4d64-407e-aa41-5068755e86ba",
   "metadata": {
    "deletable": false,
    "editable": false
   },
   "source": [
    "We could use some combination of `head`, `tail`, `dim`, `names` to begin exploring the `cherry` dataset."
   ]
  },
  {
   "cell_type": "code",
   "execution_count": null,
   "id": "26dadb05-f60e-495f-81aa-9ac7c3351151",
   "metadata": {},
   "outputs": [],
   "source": [
    "head(cherry)"
   ]
  },
  {
   "cell_type": "markdown",
   "id": "8b4466aa-4f10-4653-a64f-c33782f840d0",
   "metadata": {
    "deletable": false,
    "editable": false
   },
   "source": [
    "#### Exercise 1:  How many subjects were included in this study? (1 mark) "
   ]
  },
  {
   "cell_type": "code",
   "execution_count": null,
   "id": "b5276e0f-3f5e-4160-89f1-9f2d3f11d3d9",
   "metadata": {},
   "outputs": [],
   "source": []
  },
  {
   "cell_type": "markdown",
   "id": "f1ad463a-4325-422c-ba37-13a39f21504d",
   "metadata": {},
   "source": [
    "#### Answer: "
   ]
  },
  {
   "cell_type": "markdown",
   "id": "60d3b25c-84c5-4d8a-a37d-473d5d902812",
   "metadata": {
    "deletable": false,
    "editable": false
   },
   "source": [
    "We are interested in investigating the relationship between the diameter of the tree and the height of the tree."
   ]
  },
  {
   "cell_type": "markdown",
   "id": "8222569c-e400-4654-8c4b-5e1c38d065c8",
   "metadata": {
    "deletable": false,
    "editable": false
   },
   "source": [
    "#### Exercise 2:  Create a plot of tree height, `height` (response), against tree diameter, `diam` (explanatory).  (3 marks)"
   ]
  },
  {
   "cell_type": "code",
   "execution_count": null,
   "id": "d525a1e9",
   "metadata": {
    "deletable": false,
    "editable": true
   },
   "outputs": [],
   "source": []
  },
  {
   "cell_type": "markdown",
   "id": "120ecb2c-fa54-48a9-9888-634001cffa53",
   "metadata": {
    "deletable": false,
    "slideshow": {
     "slide_type": ""
    },
    "tags": []
   },
   "source": [
    "#### Exercise 3:  Describe the relationship between tree diameter and tree height among cherry trees. (3 marks)"
   ]
  },
  {
   "cell_type": "markdown",
   "id": "c038ccd7",
   "metadata": {
    "deletable": false,
    "editable": false
   },
   "source": [
    "#### Answer: <br>"
   ]
  },
  {
   "cell_type": "markdown",
   "id": "adfd596a-2f81-48c8-a410-a639e0cbb8e8",
   "metadata": {
    "deletable": false,
    "editable": false
   },
   "source": [
    "#### Exercise 4:  Fit the linear model, using `diam` as  the predictor (explanatory) and  `height` as the response. Display the results of fitting the linear model.  (4 marks)"
   ]
  },
  {
   "cell_type": "code",
   "execution_count": null,
   "id": "bf9d879b",
   "metadata": {
    "deletable": false,
    "editable": true
   },
   "outputs": [],
   "source": []
  },
  {
   "cell_type": "markdown",
   "id": "17961301",
   "metadata": {
    "deletable": false,
    "editable": false
   },
   "source": [
    "#### Exercise 5:  Write the equation of the regression line.  (2 marks)"
   ]
  },
  {
   "cell_type": "markdown",
   "id": "dd4257e6",
   "metadata": {
    "deletable": false,
    "editable": true
   },
   "source": [
    "#### Answer: <br>"
   ]
  },
  {
   "cell_type": "markdown",
   "id": "d04a7778-d50c-47d6-b73f-0e7bc94836b1",
   "metadata": {
    "deletable": false,
    "editable": false
   },
   "source": [
    "#### Exercise 6:  Using the regression equation, predict the height of a tree that has a diameter of 16 inches. (You do not need to use R to complete this calculation.)   (2 marks)"
   ]
  },
  {
   "cell_type": "markdown",
   "id": "451c3f34",
   "metadata": {
    "deletable": false,
    "editable": true
   },
   "source": [
    "#### Answer: <br>"
   ]
  },
  {
   "cell_type": "code",
   "execution_count": null,
   "id": "4a0d7445",
   "metadata": {
    "deletable": false,
    "editable": true,
    "slideshow": {
     "slide_type": ""
    },
    "tags": []
   },
   "outputs": [],
   "source": []
  },
  {
   "cell_type": "markdown",
   "id": "d32ea935-3700-4610-a3d3-17dea2fb409f",
   "metadata": {},
   "source": [
    "- **When you have finished your work and wish to submit your lab, you need to download this notebook as a pdf file. There are two common ways to do this.** \n",
    "1) **File > Save and Export Notebook As > PDF.**\n",
    "2) **File > Print > Save As PDF.**\n",
    "- **Submit the pdf file to Lab 3 in Crowdmark.**\n",
    "\n",
    "\n",
    "#### It is important to save your work, exit the notebook, and logout of syzygy when you are done.\n",
    "\n",
    "- **Select File > Save Notebook or select the Save icon above to save your work.**\n",
    "- **To exit the notebook, select File > Close and Shutdown Notebook.**\n",
    "- **Select File > Log Out.**"
   ]
  }
 ],
 "metadata": {
  "kernelspec": {
   "display_name": "R",
   "language": "R",
   "name": "ir"
  },
  "language_info": {
   "codemirror_mode": "r",
   "file_extension": ".r",
   "mimetype": "text/x-r-source",
   "name": "R",
   "pygments_lexer": "r",
   "version": "4.4.3"
  }
 },
 "nbformat": 4,
 "nbformat_minor": 5
}
