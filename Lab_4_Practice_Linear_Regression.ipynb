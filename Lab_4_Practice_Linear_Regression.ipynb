{
 "cells": [
  {
   "cell_type": "markdown",
   "metadata": {},
   "source": [
    "# Lab 4 Practice: Linear Regression"
   ]
  },
  {
   "cell_type": "markdown",
   "metadata": {
    "editable": true,
    "jp-MarkdownHeadingCollapsed": true,
    "slideshow": {
     "slide_type": ""
    },
    "tags": []
   },
   "source": [
    "## Reminder - working with notebooks\n",
    "\n",
    "#### 1) It is important to save your work, exit the notebook, and logout of syzygy whenever you are finished working on the notebook for that session. Simply closing the window in which you are working will leave the notebook running which can produce some minor problems when you next try to log in to resume working on the notebook.\n",
    "\n",
    "- **Select File > Save Notebook or select the Save icon above to save your work.**\n",
    "- **To exit the notebook, select File > Close and Shutdown Notebook.**\n",
    "- **Select File > Log Out.**\n",
    "\n",
    "\n",
    "#### 2) When you resume your work on a notebook, your previous work/output may still be displayed, but none of your previous work is maintained in memory accessible by the notebook. In particular, you will need to load the dataset again in order to continue working with the data. One easy way to refresh your notebook is to go to the notebook cell where you left off and do the following.\n",
    "\n",
    "- **Select Kernel > Restart Kernel and Run up to Selected Cell.**\n",
    "#### This will run all of the code in your notebook up to the selected cell."
   ]
  },
  {
   "cell_type": "markdown",
   "metadata": {
    "slideshow": {
     "slide_type": "slide"
    }
   },
   "source": [
    "## Objectives\n",
    "Relationship between two quantitative variables\n",
    "* Graphical summaries\n",
    "* Numerical summaries\n",
    "* Fitting a linear model\n",
    "* Checking model assumptions"
   ]
  },
  {
   "cell_type": "markdown",
   "metadata": {
    "slideshow": {
     "slide_type": "slide"
    }
   },
   "source": [
    "### Reaearch Question\n",
    "\n",
    "How well does SAT scores or high school GPA predict student success at the postsecondary level?  "
   ]
  },
  {
   "cell_type": "markdown",
   "metadata": {
    "slideshow": {
     "slide_type": "slide"
    }
   },
   "source": [
    "## University/College Admission Decisions\n",
    "\n",
    "Universities and colleges in Canada generally rely upon high school grades when making admission decisions regarding high school graduates. In the U.S., the use of standard test scores when making admission decisions is quite common. The SAT (Scholastic Assessment Test) and ACT (American College Testing) are the most common entrance exams used by U.S. universities and colleges when making admission decisions. Considerable research has been undertaken into the ability of these standardized tests and high school grades to predict success at university. In what follows, we will study the relationship of both SAT scores and high school GPA with first year GPA at university/college. \n",
    "\n",
    "**Note: SAT has a verbal component and a math component. The maximum score for each of these is 800, which means the maximum total score is 1600. As you will see, our dataset records the verbal SAT percentile and math SAT percentile for each student instead of the raw score. The maximum percentile on each component would be 100, making 200 the maximum total of the verabl and math percentiles.**"
   ]
  },
  {
   "cell_type": "markdown",
   "metadata": {
    "slideshow": {
     "slide_type": "slide"
    }
   },
   "source": [
    "## Data Information:\n",
    "\n",
    "### Data Set:\n",
    "\n",
    "This dataset contains SAT and GPA data for 1000 students at an unnamed college.\n",
    "\n",
    "\n",
    "#### Name: #### \n",
    "* `satgpa` - SAT and GPA data for 1000 students at an unnamed college\n",
    "\n",
    "#### Variables: ####\n",
    "* `sex` - Gender of the student.\n",
    "* `sat_v` - Verbal SAT percentile.\n",
    "* `sat_m` - Math SAT percentile.\n",
    "* `sat_sum` - Total of verbal and math SAT percentiles.\n",
    "* `hs_gpa` - High school grade point average.\n",
    "* `fy_gpa` - First year (college) grade point average."
   ]
  },
  {
   "cell_type": "markdown",
   "metadata": {},
   "source": [
    "## Load Data: "
   ]
  },
  {
   "cell_type": "code",
   "execution_count": null,
   "metadata": {
    "slideshow": {
     "slide_type": ""
    },
    "tags": []
   },
   "outputs": [],
   "source": [
    "source(\"http://www.openintro.org/data/R/satgpa.R\")"
   ]
  },
  {
   "cell_type": "markdown",
   "metadata": {},
   "source": [
    "The `source` function is used to import the dataset that will be used in the tutorial. The data that is available to you is called `satgpa`."
   ]
  },
  {
   "cell_type": "markdown",
   "metadata": {
    "slideshow": {
     "slide_type": "slide"
    }
   },
   "source": [
    "We may wish to begin by using some combination of the `names`, `dim`, `str`, and `head` commands to begin exploring the `satgpa` dataset."
   ]
  },
  {
   "cell_type": "code",
   "execution_count": null,
   "metadata": {
    "slideshow": {
     "slide_type": "slide"
    }
   },
   "outputs": [],
   "source": [
    "head(satgpa)"
   ]
  },
  {
   "cell_type": "markdown",
   "metadata": {
    "slideshow": {
     "slide_type": "slide"
    }
   },
   "source": [
    "### Graphical Summary"
   ]
  },
  {
   "cell_type": "markdown",
   "metadata": {},
   "source": [
    "#### Scatterplots\n",
    "\n",
    "**Scatterplots** are useful for exploring the **relationship** between **two numerical variables**. \n",
    "\n",
    "The `plot` function may be used to create a scatterplot, by including the two quantitative variables of interest as arguments.  \n",
    "\n",
    "Construct a scatterplot to display the relationship between first year GPA, `fy_gpa`, and total verbal and math SAT percentiles, using the variable `sat_sum` as the predictor (explanatory) variable and the variable `fy_gpa` as the response variable.  \n",
    "\n",
    "The `plot` function only requires the data to be graphed, but there are some optional arguments that may be used to customize the plot. Some of these optional arguments include:\n",
    "\n",
    "* `xlab` - specify the label for the x-axis, eg `xlab = \"x-axis label\"`\n",
    "* `xlim` - specify the minimum and maximum value for the x-axis, eg `xlim=c(minimum, maximum)`\n",
    "* `ylab` - specify the label for the y-axis, eg `ylab = \"y-axis label\"`\n",
    "* `ylim` - specify the minimum and maximum value for the y-axis, eg `ylim=c(minimum, maximum)`\n",
    "* `main` - specify a main title for the graph, eg `main = \"Main Title for the Graph\"`"
   ]
  },
  {
   "cell_type": "code",
   "execution_count": null,
   "metadata": {},
   "outputs": [],
   "source": [
    "plot(x = satgpa$sat_sum, y = satgpa$fy_gpa, xlab = \"Total Verbal and Math SAT Percentiles\", ylab = \"First Year GPA\")\n",
    "#or\n",
    "plot(satgpa$fy_gpa ~ satgpa$sat_sum, xlab = \"Total Verbal and Math SAT Percentiles\", ylab = \"First Year GPA\")"
   ]
  },
  {
   "cell_type": "markdown",
   "metadata": {
    "slideshow": {
     "slide_type": "slide"
    }
   },
   "source": [
    "#### Question: Describe the relationship between total verbal and math percentiles and first year GPA."
   ]
  },
  {
   "cell_type": "markdown",
   "metadata": {},
   "source": [
    "#### Answer: *There does appear to be a relationship between total verbal and math SAT percentiles and first year GPA. In particular as the total SAT percentiles increases, first year GPA also tends to increase. This represents a positive relationship. The relationship appears to be roughly linear, and moderately strong. There are a few unusual observations.*"
   ]
  },
  {
   "cell_type": "markdown",
   "metadata": {},
   "source": [
    "#### Question: Construct a scatterplot to display the relationship between high school GPA, `hs_gpa`, and first year GPA, `fy_gpa`, using the variable `hs_gpa` as the predictor (explanatory) variable and the variable `fy_gpa` as the response variable.  "
   ]
  },
  {
   "cell_type": "code",
   "execution_count": null,
   "metadata": {},
   "outputs": [],
   "source": []
  },
  {
   "cell_type": "markdown",
   "metadata": {},
   "source": [
    "<details>\n",
    "\n",
    "<summary><b>Click to view sample code:</b></summary>\n",
    "\n",
    "<br>\n",
    "\n",
    "Option 1\n",
    "```\n",
    "plot(x = satgpa$hs_gpa, y = satgpa$fy_gpa, xlab = \"High School GPA\", ylab = \"First Year GPA\")\n",
    "```\n",
    "\n",
    "<br>\n",
    "\n",
    "Option 2\n",
    "```\n",
    "plot(satgpa$fy_gpa ~ satgpa$hs_gpa, xlab = \"High School GPA\", ylab = \"First Year GPA\")\n",
    "```\n",
    "\n",
    "</details>"
   ]
  },
  {
   "cell_type": "markdown",
   "metadata": {
    "slideshow": {
     "slide_type": "slide"
    }
   },
   "source": [
    "#### Question: Describe the relationship between first year GPA and high school GPA."
   ]
  },
  {
   "cell_type": "markdown",
   "metadata": {},
   "source": [
    "#### Answer: "
   ]
  },
  {
   "cell_type": "markdown",
   "metadata": {},
   "source": [
    "<details>\n",
    "\n",
    "<summary><b>Sample Answer:</b></summary>\n",
    "\n",
    "*There does appear to be a relationship between high school GPA and first year GPA. In particular, as high school GPA increases, first year GPA also tends to increase. This represents a positive relationship. The relationship appears to be roughly linear, and moderately strong. There are a few unusual observations.*\n",
    "\n",
    "</details>"
   ]
  },
  {
   "cell_type": "markdown",
   "metadata": {
    "slideshow": {
     "slide_type": "slide"
    }
   },
   "source": [
    "### Numerical Summary\n",
    "\n",
    "When summarizing a single quantitative variable, we used numerical quantities such as the mean and standard deviation. It would be useful to be able to summarize the relationship between two quantitative variables. If the relationship looks linear, we can describe the relationship by choosing the line that best fits the relationship, and by quantifying the strength of the linear relationship."
   ]
  },
  {
   "cell_type": "markdown",
   "metadata": {},
   "source": [
    "### The linear model\n",
    "\n",
    "Choosing a line that summarizes the relationship between two quantitative variable, mean choosing and **intercept, $b_0$**, and **slope, $b_1$**, such that for each value of the explanatory variable, $x$, we can predict the value of the response variable, $\\hat{y}$.\n",
    "\n",
    "$$\\hat{y} = b_0 + b_1\\cdot x$$\n",
    "\n",
    "To find the line that **best** summarizes the relationship, we need to consider the difference between the observed values and the values predicted by the line.\n",
    "\n",
    "$$ e_i = y_i - \\hat{y}_i$$\n",
    "\n",
    "The $e_i$'s represent the residuals, or prediction errors, associated with the proposed linear relationship.  \n",
    "\n",
    "The most common way to do linear regression is to select the line, that is to select intercept, $a$, and slope, $b$, that minimizes the sum of squared residuals.\n",
    "\n",
    "$$\\sum e_i^2 = \\sum (y_i - \\hat{y}_i)^2$$\n",
    "\n",
    "It is rather cumbersome to try to get the correct **least squares line**, i.e. the line that minimizes the sum of squared residuals by hand, either through trial and error or through the use of calculus. \n",
    "\n",
    "Instead we can use the `lm` function in R to fit the linear model (find the least squares regression line)."
   ]
  },
  {
   "cell_type": "code",
   "execution_count": null,
   "metadata": {},
   "outputs": [],
   "source": [
    "regress1 = lm(fy_gpa ~ sat_sum, data = satgpa)"
   ]
  },
  {
   "cell_type": "markdown",
   "metadata": {},
   "source": [
    "* The first argument in the function lm is a formula that takes the form `y ~ x`. Here it can be read that we want to make a linear model of `fy_gpa` as a function of `sat_sum`.  \n",
    "  \n",
    "\n",
    "* The second argument specifies that R should look in the `satgpa` data frame to find the `fy_gpa` and `sat_sum` variables.\n",
    "  \n",
    "  \n",
    "* The output of the `lm` function is being saved to a new object called `regress1` here, that contains information about the linear model that was just fit. We can access this information using the `summary` function."
   ]
  },
  {
   "cell_type": "code",
   "execution_count": null,
   "metadata": {},
   "outputs": [],
   "source": [
    "summary(regress1)"
   ]
  },
  {
   "cell_type": "markdown",
   "metadata": {},
   "source": [
    "Consider this output piece by piece. \n",
    "\n",
    "* First, the formula used to describe the model is shown at the top. \n",
    "  \n",
    "  \n",
    "* After the formula you find the five-number summary of the residuals.  \n",
    "  \n",
    "  \n",
    "* The `Coefficients` table shown next is key; its first column displays the linear model's *y*-intercept and the coefficient of the explanatory variable, `sat_sum`. With this table, we can write down the least squares regression line for the linear model:\n",
    "\n",
    "$$\\hat{fy\\_gpa} = 0.00193 + 0.02387 \\cdot sat\\_sum$$\n",
    "\n",
    "or\n",
    "\n",
    "$$\\hat{y} = 0.00193 + 0.02387 \\cdot x$$\n",
    "\n",
    "The output also contains information regarding the fit of the linear model, Multiple R-squared, or more simply, $R^2$, which equals 0.361 in this case. This value will be discussed below."
   ]
  },
  {
   "cell_type": "markdown",
   "metadata": {},
   "source": [
    "#### Question:  What does the slope tell us in the context of the relationship between total verbal and math SAT percentiles and first year GPA?  "
   ]
  },
  {
   "cell_type": "markdown",
   "metadata": {},
   "source": [
    "#### Answer: *The slope of 0.024 tells us that for each additional percentile, in the total verbal and math SAT percentiles, we expect first year GPA to increase by 0.024.*"
   ]
  },
  {
   "cell_type": "markdown",
   "metadata": {},
   "source": [
    "#### Question: How much of the variability in `fy_gpa` is explained by the variable `sat_sum`?  "
   ]
  },
  {
   "cell_type": "markdown",
   "metadata": {},
   "source": [
    "#### Answer:  *The $R^2$ value represents the proportion of variability in the response variable that is explained by the explanatory variable. For this model, $R^2$ is 0.2119, meaning 21.2% of the variability in `fy-gpa` is explained by `sat_sum`.*"
   ]
  },
  {
   "cell_type": "markdown",
   "metadata": {},
   "source": [
    "### Add regression line to scatterplot\n",
    "\n",
    "Let’s create a scatterplot of `fy_gpa` versus `sat_sum` with the least squares overlaid. Recall that the `abline` function is used to add a straight line to the scatterplot. Since the regression object `regress1` contains all of the relevant information regarding the slope and intercept of the regression line, the `abline` function can be used in conjunction with the `regress1` object. Therefore, `abline(regress1)` will add the regression line to the scatterplot. \n"
   ]
  },
  {
   "cell_type": "code",
   "execution_count": null,
   "metadata": {},
   "outputs": [],
   "source": [
    "plot(x = satgpa$sat_sum, y = satgpa$fy_gpa, xlab = \"Total SAT score\", ylab = \"GPA in first year of university/college team\")\n",
    "abline(regress1)"
   ]
  },
  {
   "cell_type": "markdown",
   "metadata": {
    "slideshow": {
     "slide_type": "slide"
    }
   },
   "source": [
    "#### Question:  Fit a new model that uses `hs_gpa` to predict `fy_gpa`. (Use a different model name than `regress1` to save the results)"
   ]
  },
  {
   "cell_type": "code",
   "execution_count": null,
   "metadata": {},
   "outputs": [],
   "source": []
  },
  {
   "cell_type": "markdown",
   "metadata": {},
   "source": [
    "<details>\n",
    "\n",
    "<summary><b>Click to view sample code:</b></summary>\n",
    "\n",
    "\n",
    "```\n",
    "regress2 = lm(fy_gpa ~ hs_gpa, data = satgpa)\n",
    "summary(regress2)\n",
    "```\n",
    "\n",
    "</details>"
   ]
  },
  {
   "cell_type": "markdown",
   "metadata": {},
   "source": [
    "#### Question: Using the R output from fitting the linear model, write the equation of the regression line.  "
   ]
  },
  {
   "cell_type": "markdown",
   "metadata": {},
   "source": [
    "#### Answer:  "
   ]
  },
  {
   "cell_type": "markdown",
   "metadata": {
    "jp-MarkdownHeadingCollapsed": true
   },
   "source": [
    "<details>\n",
    "\n",
    "<summary><b>Sample Answer:</b></summary>\n",
    "\n",
    "$\\hat{fy\\_gpa} = 0.09132 + (0.74314) \\times (hs\\_gpa)$\n",
    "\n",
    "#### Your answer does not need to use $\\hat{fy\\_gpa}$ notation. Your answer could simply use *fy_gpa*, or *fy_gpa-hat*.  \n",
    "\n",
    "</details>"
   ]
  },
  {
   "cell_type": "markdown",
   "metadata": {},
   "source": [
    "#### Question: How much of the variability in `fy_gpa` is explained by the variable `hs_gpa`?  "
   ]
  },
  {
   "cell_type": "markdown",
   "metadata": {},
   "source": [
    "#### Answer:  "
   ]
  },
  {
   "cell_type": "markdown",
   "metadata": {},
   "source": [
    "<details>\n",
    "\n",
    "<summary><b>Sample Answer:</b></summary>\n",
    "\n",
    "*The $R^2$ value represents the proportion of variability in the response variable that is explained by the explanatory variable. For this model, $R^2$ is 0.2952, meaning 29.5% of the variability in `fy-gpa` is explained by `hs_gpa`.*\n",
    "\n",
    "</details>"
   ]
  },
  {
   "cell_type": "markdown",
   "metadata": {},
   "source": [
    "#### Question: Create a scatterplot of first year GPA, `fy_gpa`, and high school GPA, `hs_gpa`, with the least squares line overlaid on the scatterplot."
   ]
  },
  {
   "cell_type": "code",
   "execution_count": null,
   "metadata": {},
   "outputs": [],
   "source": []
  },
  {
   "cell_type": "markdown",
   "metadata": {},
   "source": [
    "<details>\n",
    "\n",
    "<summary><b>Click to view sample code:</b></summary>\n",
    "\n",
    "\n",
    "```\n",
    "plot(x = satgpa$hs_gpa, y = satgpa$fy_gpa, xlab = \"High school GPA\", ylab = \"GPA in first year of university/college\")\n",
    "abline(regress2)\n",
    "```\n",
    "\n",
    "</details>"
   ]
  },
  {
   "cell_type": "markdown",
   "metadata": {},
   "source": [
    "### Checking Model Assumptions\n",
    "\n",
    "The linear model assumes that the true relationship, in the population, between the explanatory variable $X$ and response variable $Y$ is \n",
    "\n",
    "$$Y = \\beta_0 + \\beta_1 \\cdot X + \\epsilon$$\n",
    "\n",
    "That is, the general relationship is linear\n",
    "\n",
    "$$\\hat{Y} = \\beta_0 + \\beta_1 \\cdot X,$$\n",
    "\n",
    "but individual responses will vary around this linear relationship in some fashion.\n",
    "\n",
    "$$\\epsilon_i = Y_i - \\hat{Y}_i$$\n",
    "\n",
    "It is generally assumed that individual responses, $Y$ are normally distributed for each value of the explanatory variable, $X$.\n",
    "\n",
    "This means that the model assumes that the actual errors, $\\epsilon_i$'s are normally distributed.\n",
    "\n",
    "Therefore, to assess whether the linear model is appropriate, we need to check for:\n",
    "* (1) linearity\n",
    "* (2) nearly normal residuals\n",
    "* (3) constant variability\n",
    "* (4) *independence*"
   ]
  },
  {
   "cell_type": "markdown",
   "metadata": {},
   "source": [
    "**Linearity**: You already checked if the relationship between `sat_sum` and `fy_gpa` appears linear using a scatterplot. We should also verify this condition with a plot of the residuals vs. the explanatory variable, `sat_sum`.\n",
    "\n",
    "Recall that we saved the results of fitting the linear model in the object called `regress1`. That object contains a large amount of information, including the residuals, or prediction errors, associated with each observation. Therefore, `residuals` is a variable that may be found in the object `regress1`. To access the residuals we would use `regress1$residuals`. We will use the `abline` function to add a horizontal line at 0 to the plot."
   ]
  },
  {
   "cell_type": "code",
   "execution_count": null,
   "metadata": {},
   "outputs": [],
   "source": [
    "plot(x = satgpa$sat_sum, y = regress1$residuals) \n",
    "abline(h = 0, lty = 3)  # adds a horizontal dashed line at y = 0; lty = 3 defines the type of line to draw."
   ]
  },
  {
   "cell_type": "markdown",
   "metadata": {},
   "source": [
    "#### Question: Is there any apparent pattern in the residuals plot? What does this indicate about the linearity of the relationship between SAT percentile and first year GPA?"
   ]
  },
  {
   "cell_type": "markdown",
   "metadata": {},
   "source": [
    "#### Answer: *There is no pattern in the residuals plot. In particular, there is no nonlinear pattern in the plot. This suggests that the linearity assumption seems reasonable.*"
   ]
  },
  {
   "cell_type": "markdown",
   "metadata": {},
   "source": [
    "**Nearly normal residuals**: Fitting the least squares regression line does not require that the residuals are normally distributed. However, inference procedures related to the linear regression will require this assumption. To check this condition, we can look at a histogram of the residuals arising from the model."
   ]
  },
  {
   "cell_type": "code",
   "execution_count": null,
   "metadata": {},
   "outputs": [],
   "source": [
    "hist(regress1$residuals)"
   ]
  },
  {
   "cell_type": "markdown",
   "metadata": {},
   "source": [
    "#### Question: Based on the histogram, does the nearly normal residuals condition appear to be met?"
   ]
  },
  {
   "cell_type": "markdown",
   "metadata": {},
   "source": [
    "#### Answer: *The histogram is roughly bell-shaped. This suggests that the residuals are approximately normally distributed.*"
   ]
  },
  {
   "cell_type": "markdown",
   "metadata": {},
   "source": [
    "**Constant variability**:\n",
    "\n",
    "The same plot of residuals vs. `sat_sum` may be used to check the constant variability assumption. That plot is repeated below."
   ]
  },
  {
   "cell_type": "code",
   "execution_count": null,
   "metadata": {},
   "outputs": [],
   "source": [
    "plot(x = satgpa$sat_sum, y = regress1$residuals) \n",
    "abline(h = 0, lty = 3)  # adds a horizontal dashed line at y = 0; lty = 3 defines the type of line to draw. "
   ]
  },
  {
   "cell_type": "markdown",
   "metadata": {},
   "source": [
    "#### Question: Is there any apparent pattern in the residuals plot? What does this indicate about the assumption of constant variability?"
   ]
  },
  {
   "cell_type": "markdown",
   "metadata": {},
   "source": [
    "#### Answer: *There is no pattern in the residuals plot. The spread of the residuals seems fairly constant. The spread of the residuals does not appear to be either increasing, or decreasing, as `sat_sum` increases. This suggests that the assumption of constant variability seems reasonable.*"
   ]
  },
  {
   "cell_type": "markdown",
   "metadata": {},
   "source": [
    "***Independence***:  \n",
    "\n",
    "In general, residual plots can not be used to check on the independence assumption. If the data was collected in a particular order, for example in a particular time order, you could check a plot of the residuals against time to check for any patterns.  \n",
    "\n",
    "Most often, checking the independence assumption relies upon considering how the data was collected and whether the assumption seems reasonable."
   ]
  },
  {
   "cell_type": "markdown",
   "metadata": {},
   "source": [
    "#### Question: Use appropriate residual plots to check the model assumptions for the linear model using the explanatory variable high school GPA, `hs_gpa`, to predict first year GPA, `fy_gpa`.\n",
    "\n",
    "#### Using plots, check for:\n",
    "* (1) linearity\n",
    "* (2) nearly normal residuals\n",
    "* (3) constant variability"
   ]
  },
  {
   "cell_type": "code",
   "execution_count": null,
   "metadata": {},
   "outputs": [],
   "source": []
  },
  {
   "cell_type": "markdown",
   "metadata": {},
   "source": [
    "<details>\n",
    "\n",
    "<summary><b>Click to view sample code:</b></summary>\n",
    "\n",
    "\n",
    "```\n",
    "plot(x = satgpa$hs_gpa, y = regress2$residuals) \n",
    "abline(h = 0, lty = 3)  # adds a horizontal dashed line at y = 0; lty = 3 defines the type of line to draw\n",
    "```\n",
    "\n",
    "</details>"
   ]
  },
  {
   "cell_type": "code",
   "execution_count": null,
   "metadata": {},
   "outputs": [],
   "source": []
  },
  {
   "cell_type": "markdown",
   "metadata": {
    "editable": true,
    "slideshow": {
     "slide_type": ""
    },
    "tags": []
   },
   "source": [
    "<details>\n",
    "\n",
    "<summary><b>Click to view sample code:</b></summary>\n",
    "\n",
    "\n",
    "```\n",
    "hist(regress2$residuals)\n",
    "```\n",
    "\n",
    "</details>"
   ]
  },
  {
   "cell_type": "markdown",
   "metadata": {},
   "source": [
    "#### Question: What do the residual plots suggest about the model assumptions?"
   ]
  },
  {
   "cell_type": "markdown",
   "metadata": {},
   "source": [
    "#### Answer:  "
   ]
  },
  {
   "cell_type": "markdown",
   "metadata": {},
   "source": [
    "<details>\n",
    "\n",
    "<summary><b>Sample Answer:</b></summary>\n",
    "\n",
    "<br>*-There is no pattern in the the plot of residuals against high school GPA. There is no nonlinear pattern in the residuals, which suggests that the linearity assumption is appropriate. <br>-The spread of the residuals seems fairly constant. The spread of the residuals does not appear to be either increasing, or decreasing, as high school GPA. This suggests that the assumption of constant variability seems reasonable. <br>-The histogram of the residuals is roughly bell-shaped. This suggests that the assumption of normally distributed residuals seems reasonable*\n",
    "\n",
    "</details>"
   ]
  },
  {
   "cell_type": "markdown",
   "metadata": {
    "editable": true,
    "slideshow": {
     "slide_type": ""
    },
    "tags": []
   },
   "source": [
    "#### Let’s stop here. \n",
    "\n",
    "#### It is important to save your work, exit the notebook, and logout of syzygy when you are done. Simply closing the window in which you are working will leave the notebook running which can produce some minor problems when you next try to log in.\n",
    "\n",
    "- **Select File > Save Notebook or select the Save icon above to save your work.**\n",
    "- **To exit the notebook, select File > Close and Shutdown Notebook.**\n",
    "- **Select File > Log Out.**"
   ]
  }
 ],
 "metadata": {
  "kernelspec": {
   "display_name": "R",
   "language": "R",
   "name": "ir"
  },
  "language_info": {
   "codemirror_mode": "r",
   "file_extension": ".r",
   "mimetype": "text/x-r-source",
   "name": "R",
   "pygments_lexer": "r",
   "version": "4.4.3"
  }
 },
 "nbformat": 4,
 "nbformat_minor": 4
}
