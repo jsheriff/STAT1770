{
 "cells": [
  {
   "cell_type": "markdown",
   "metadata": {
    "deletable": false,
    "editable": false,
    "slideshow": {
     "slide_type": ""
    },
    "tags": []
   },
   "source": [
    "# Lab 4 Assignment\n",
    "\n",
    "#### Lab 4 Assignment is due on Thursday, October 9 at 8:00 pm. Late assignments will receive a deduction of 20% per day.\n",
    "\n",
    "#### Complete this notebook, by introducing and executing the required code and answering the related questions.\n",
    "\n",
    "#### When you have finished your work and wish to submit your assignment, download this notebook as a pdf file: <br>- File > Save and Export Notebook As > PDF <br>or <br>- File > Print > Save as PDF.  <br>Submit the pdf file to Lab 4 Assignment in Crowdmark.\n",
    "\n",
    "#### You can copy, paste, and modify code from previous labs if you wish, as opposed to writing code from scratch. Open the previous lab and highlight the code you want. Then copy and paste the code into this assignment and make the necessary modifications.\n",
    "\n",
    "#### If you have questions, please ask.\n",
    "\n",
    "---"
   ]
  },
  {
   "cell_type": "markdown",
   "metadata": {
    "editable": true,
    "slideshow": {
     "slide_type": ""
    },
    "tags": []
   },
   "source": [
    "## Reminder - working with notebooks\n",
    "\n",
    "#### 1) It is important to save your work, exit the notebook, and logout of syzygy whenever you are finished working on the notebook for that session.\n",
    "\n",
    "- **Select File > Save Notebook or select the Save icon above to save your work.**\n",
    "- **To exit the notebook, select File > Close and Shutdown Notebook.**\n",
    "- **Select File > Log Out.**\n",
    "\n",
    "\n",
    "#### 2) When you resume your work on a notebook, your previous work/output may still be displayed, but none of your previous work is maintained in memory accessible by the notebook. In particular, you will need to load the dataset again in order to continue working with the data. One easy way to refresh your notebook is to go to the notebook cell where you left off and do the following.\n",
    "\n",
    "- **Select Kernel > Restart Kernel and Run up to Selected Cell.**\n",
    "#### This will run all of the code in your notebook up to the selected cell."
   ]
  },
  {
   "cell_type": "markdown",
   "metadata": {
    "deletable": false,
    "editable": false
   },
   "source": [
    "## General Research Question\n",
    "\n",
    "**How does tree diameter relate to tree height?**\n",
    "\n",
    "---"
   ]
  },
  {
   "cell_type": "markdown",
   "metadata": {
    "deletable": false,
    "editable": false
   },
   "source": [
    "## Tree diameter and tree height\n",
    "\n",
    "The cost of measuring tree height in forest inventory is greater than that of measuring tree diameter, leading to the need for equations to predict tree height from measured diameter. Researchers wanting to understand the relationship between these variables for black cherry trees collected data from black cherry trees in the Allegheny National Forest, Pennsylvania.\n",
    "\n",
    "---"
   ]
  },
  {
   "cell_type": "markdown",
   "metadata": {
    "deletable": false,
    "editable": false
   },
   "source": [
    "## Data Information:\n",
    "\n",
    "### Data Set:\n",
    "\n",
    "#### Name: #### \n",
    "* `cherry`: dataset containing results from study\n",
    "\n",
    "\n",
    "#### Variables: ####\n",
    "\n",
    "* `diam`: tree diameter in inches (at 54 inches above ground).\n",
    "* `height`: tree height, measured in feet.\n",
    "* `volume`: tree volume in cubic feet."
   ]
  },
  {
   "cell_type": "markdown",
   "metadata": {
    "deletable": false,
    "editable": false
   },
   "source": [
    "## Load Data: "
   ]
  },
  {
   "cell_type": "code",
   "execution_count": null,
   "metadata": {
    "deletable": false,
    "editable": false
   },
   "outputs": [],
   "source": [
    "download.file(\"http://www.openintro.org/data/rda/cherry.rda\",destfile = \"cherry.rda\")\n",
    "load(\"cherry.rda\")"
   ]
  },
  {
   "cell_type": "markdown",
   "metadata": {
    "deletable": false,
    "editable": false
   },
   "source": [
    "The `download.file` function and `load` function are used to import the dataset that will be used in the assignment. The dataset is called `cherry`. These commands instruct R to access the OpenIntro website and retrieve some data, which is in a file called `cherry.rda`. The .rda indicates a file format, like .csv, .txt etc. R is capable of importing files of various formats (using the appropriate command). The `cherry` dataset, which is contained within `cherry.rda` is already in a format native to R."
   ]
  },
  {
   "cell_type": "markdown",
   "metadata": {
    "deletable": false,
    "editable": false
   },
   "source": [
    "We could use some combination of `head`, `tail`, `dim`, `names` to begin exploring the `cherry` dataset."
   ]
  },
  {
   "cell_type": "code",
   "execution_count": null,
   "metadata": {},
   "outputs": [],
   "source": [
    "head(cherry)"
   ]
  },
  {
   "cell_type": "markdown",
   "metadata": {
    "deletable": false,
    "slideshow": {
     "slide_type": ""
    },
    "tags": []
   },
   "source": [
    "#### Exercise 1:  Fit the linear model, using `diam` as  the predictor (explanatory) and  `height` as the response. Use the `summary` function to display the results of fitting the linear model.  (4 marks)"
   ]
  },
  {
   "cell_type": "code",
   "execution_count": null,
   "metadata": {
    "deletable": false,
    "editable": true,
    "slideshow": {
     "slide_type": ""
    },
    "tags": []
   },
   "outputs": [],
   "source": []
  },
  {
   "cell_type": "markdown",
   "metadata": {
    "deletable": false,
    "editable": false
   },
   "source": [
    "#### Exercise 2:  Create a plot of cherry tree height, `height` (response), against cherry tree diameter, `diam` (explanatory). Use the `abline` function to add the least squares regression line to the scatterplot.  (3 marks)"
   ]
  },
  {
   "cell_type": "code",
   "execution_count": null,
   "metadata": {
    "deletable": false,
    "editable": true,
    "slideshow": {
     "slide_type": ""
    },
    "tags": []
   },
   "outputs": [],
   "source": []
  },
  {
   "cell_type": "markdown",
   "metadata": {
    "deletable": false,
    "editable": false,
    "slideshow": {
     "slide_type": ""
    },
    "tags": []
   },
   "source": [
    "#### Exercise 3:  Interpret the slope in the context of this study.  (2 marks)"
   ]
  },
  {
   "cell_type": "markdown",
   "metadata": {
    "deletable": false,
    "editable": true
   },
   "source": [
    "#### Answer: <br> "
   ]
  },
  {
   "cell_type": "markdown",
   "metadata": {
    "deletable": false,
    "editable": false
   },
   "source": [
    "#### Exercise 4:  Interpret the intercept in the context of this study.  (2 marks)"
   ]
  },
  {
   "cell_type": "markdown",
   "metadata": {
    "deletable": false,
    "editable": true
   },
   "source": [
    "#### Answer: <br>"
   ]
  },
  {
   "cell_type": "markdown",
   "metadata": {
    "deletable": false,
    "editable": false,
    "slideshow": {
     "slide_type": ""
    },
    "tags": []
   },
   "source": [
    "#### Exercise 5:  What proportion of the variability in cherry tree height is explained by cherry tree diameter?  (1 mark)"
   ]
  },
  {
   "cell_type": "markdown",
   "metadata": {
    "deletable": false,
    "editable": true
   },
   "source": [
    "#### Answer: <br> "
   ]
  },
  {
   "cell_type": "markdown",
   "metadata": {
    "deletable": false,
    "editable": false
   },
   "source": [
    "#### Exercise 6: Construct an appropriate plot to check the *assumption of nearly normal errors*. (Only one plot is required.)  (2 marks)"
   ]
  },
  {
   "cell_type": "code",
   "execution_count": null,
   "metadata": {
    "deletable": false,
    "editable": true
   },
   "outputs": [],
   "source": []
  },
  {
   "cell_type": "markdown",
   "metadata": {
    "deletable": false,
    "editable": false,
    "slideshow": {
     "slide_type": ""
    },
    "tags": []
   },
   "source": [
    "#### Exercise 7: Based upon the plot from Exercise 6, comment on the appropriateness of the *nearly normal errors* assumption. (2 marks)"
   ]
  },
  {
   "cell_type": "markdown",
   "metadata": {
    "deletable": false,
    "editable": true
   },
   "source": [
    "#### Answer: <br>"
   ]
  },
  {
   "cell_type": "markdown",
   "metadata": {},
   "source": [
    "- **When you have finished your work and wish to submit your lab, you need to download this notebook as a pdf file. There are two common ways to do this.** \n",
    "1) **File > Save and Export Notebook As > PDF.**\n",
    "2) **File > Print > Save As PDF.**\n",
    "- **Submit the pdf file to Lab 4 in Crowdmark.**\n",
    "\n",
    "\n",
    "#### It is important to save your work, exit the notebook, and logout of syzygy when you are done.\n",
    "\n",
    "- **Select File > Save Notebook or select the Save icon above to save your work.**\n",
    "- **To exit the notebook, select File > Close and Shutdown Notebook.**\n",
    "- **Select File > Log Out.**"
   ]
  }
 ],
 "metadata": {
  "celltoolbar": "Edit Metadata",
  "kernelspec": {
   "display_name": "R",
   "language": "R",
   "name": "ir"
  },
  "language_info": {
   "codemirror_mode": "r",
   "file_extension": ".r",
   "mimetype": "text/x-r-source",
   "name": "R",
   "pygments_lexer": "r",
   "version": "4.4.3"
  }
 },
 "nbformat": 4,
 "nbformat_minor": 4
}
